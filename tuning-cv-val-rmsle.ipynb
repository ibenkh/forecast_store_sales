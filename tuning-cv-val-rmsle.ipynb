{
 "cells": [
  {
   "cell_type": "code",
   "execution_count": 1,
   "id": "ddd6bf4b-d99c-4b8f-86a8-effec5f215ea",
   "metadata": {},
   "outputs": [
    {
     "name": "stderr",
     "output_type": "stream",
     "text": [
      "/Users/idris/miniconda3/envs/forecast/lib/python3.8/site-packages/tqdm/auto.py:22: TqdmWarning: IProgress not found. Please update jupyter and ipywidgets. See https://ipywidgets.readthedocs.io/en/stable/user_install.html\n",
      "  from .autonotebook import tqdm as notebook_tqdm\n"
     ]
    }
   ],
   "source": [
    "import optuna\n",
    "import pandas as pd\n",
    "import numpy as np\n",
    "import lightgbm as lgb\n",
    "from tqdm import tqdm\n",
    "from lightgbm import log_evaluation, early_stopping\n",
    "\n",
    "import warnings\n",
    "warnings.filterwarnings('ignore')\n",
    "\n",
    "from sklearn.metrics import mean_squared_error, mean_squared_log_error\n",
    "\n"
   ]
  },
  {
   "cell_type": "code",
   "execution_count": 2,
   "id": "f4ab10ec-f86f-4608-a2e6-1f9bb31882ac",
   "metadata": {},
   "outputs": [],
   "source": [
    "def calculate_lags(df, col, lags, shift=0):\n",
    "    for l in lags:\n",
    "        df[f\"lag_{col}_{l}\"] = df.groupby([\"ts_id\"])[col].shift(shift + l).astype(np.float16)\n",
    "\n",
    "def calculate_rollings(df, col, rollings, shift=0):\n",
    "    for r in rollings:\n",
    "        df[f\"rol_mean_{col}_{r}\"] = df.groupby([\"ts_id\"])[col].shift(shift + 1).rolling(r, min_periods=1).mean()\n",
    "        df[f\"rol_std_{col}_{r}\"] = df.groupby([\"ts_id\"])[col].shift(shift + 1).rolling(r, min_periods=1).std()\n",
    "        df[f\"rol_min_{col}_{r}\"] = df.groupby([\"ts_id\"])[col].shift(shift + 1).rolling(r, min_periods=1).min()\n",
    "        df[f\"rol_max_{col}_{r}\"] = df.groupby([\"ts_id\"])[col].shift(shift + 1).rolling(r, min_periods=1).max()\n",
    "\n",
    "\n",
    "def RMSLE(y_true:np.ndarray, y_pred:np.ndarray) -> np.float64:\n",
    "\n",
    "    return np.sqrt(mean_squared_log_error(y_true, y_pred))\n",
    "\n",
    "        \n",
    "def CVGroupTimeSeriesSplit(X, prediction_length=16, step_forecast='days'):\n",
    "\n",
    "    if step_forecast=='days':\n",
    "        unit_time = 365\n",
    "    elif step_forecast=='weeks':\n",
    "        unit_time = 52\n",
    "    elif step_forecast is None:\n",
    "        raise ValueError(\"The 'step_forecast' parameter should not be None\")\n",
    "        \n",
    "    list_idx_fold = [1, 2, 3, int((unit_time)/prediction_length), int((unit_time*2)/prediction_length)]\n",
    "    \n",
    "    #X['time_idx'] = ((X['date'] - X['date'].min()).dt.days).astype(int)\n",
    "    XX = X.set_index('time_idx', drop=True)\n",
    "\n",
    "    for idx_fold in list_idx_fold:\n",
    "        \n",
    "        print('idx_fold :', idx_fold)\n",
    "        time_min_data, time_max_data = XX.index.min(), XX.index.max()\n",
    "        mask_sample_max_train = time_max_data - (idx_fold * prediction_length)\n",
    "        mask_sample_max_test = mask_sample_max_train + (prediction_length)\n",
    "\n",
    "        train = XX.iloc[:mask_sample_max_train].reset_index(drop=False)\n",
    "        test = XX.iloc[mask_sample_max_train:mask_sample_max_test].reset_index(drop=False)\n",
    "                \n",
    "        yield train.time_idx.unique(), test.time_idx.unique()"
   ]
  },
  {
   "cell_type": "code",
   "execution_count": 3,
   "id": "1bde7023-392f-4451-a4ef-215b008d6925",
   "metadata": {},
   "outputs": [],
   "source": [
    "path = '/Users/idris/Documents/ds_project/forecast_store_sales/data/'\n",
    "#cutoff = '2017-07-31'\n",
    "cutoff = '2017-08-16'\n",
    "\n",
    "col_to_ignore = [\"date\", \"is_future\", \"forecast_step\", \"ts_id\"]\n",
    "\n",
    "TARGET_COL = 'sales'\n",
    "\n",
    "prediction_length = 16\n",
    "lags_target=list(range(1, 16))\n",
    "rollings_target=[2, 4, 8, 16]"
   ]
  },
  {
   "cell_type": "code",
   "execution_count": 4,
   "id": "cc4e6b2f-46ac-4a38-a94c-4608ddb1a053",
   "metadata": {},
   "outputs": [],
   "source": [
    "df_cutoff = pd.read_csv(path + f'fe/cutoff/{cutoff}/final_frame.csv', sep=';').drop('transactions', axis=1)\n",
    "df_cutoff['date'] = pd.to_datetime(df_cutoff['date'])\n",
    "df_cutoff['is_future'] = df_cutoff['is_future'].fillna(False)\n",
    "df_cutoff[\"time_idx\"] = ((df_cutoff[\"date\"] - df_cutoff[\"date\"].min()).dt.days).astype(int)\n",
    "\n",
    "df_cv = df_cutoff.loc[df_cutoff[\"is_future\"] == False].reset_index(drop=True)\n",
    "\n",
    "clean = pd.read_csv(path + f'trainclean.csv', sep=';')\n",
    "clean['date'] = pd.to_datetime(clean['date'])"
   ]
  },
  {
   "cell_type": "code",
   "execution_count": 5,
   "id": "a9260058-809a-4349-8151-d336271ecb70",
   "metadata": {},
   "outputs": [],
   "source": [
    "prediction_length = 16\n",
    "\n",
    "lags_target=list(range(1, 16))\n",
    "rollings_target=[2, 4, 8, 16]\n",
    "\n",
    "time_val = 6"
   ]
  },
  {
   "cell_type": "code",
   "execution_count": 6,
   "id": "ec36dece-20f3-4426-ae4a-9bfa56369cc7",
   "metadata": {},
   "outputs": [
    {
     "name": "stderr",
     "output_type": "stream",
     "text": [
      "0it [00:00, ?it/s]"
     ]
    },
    {
     "name": "stdout",
     "output_type": "stream",
     "text": [
      "idx_fold : 1\n"
     ]
    },
    {
     "name": "stderr",
     "output_type": "stream",
     "text": [
      "0it [00:03, ?it/s]\n"
     ]
    }
   ],
   "source": [
    "for train_idx, test_idx in tqdm(CVGroupTimeSeriesSplit(df_cv, prediction_length=16)):\n",
    "        \n",
    "        #i_train = df_cv.loc[train_idx, 'time_idx'].unique()\n",
    "        df_train = df_cv.loc[df_cv['time_idx'].isin(train_idx)].drop(columns=col_to_ignore)\n",
    "        #i_test = df_cv.loc[test_idx, 'time_idx'].unique()[:16]\n",
    "        df_test = df_cv.loc[df_cv['time_idx'].isin(test_idx)].drop(columns=col_to_ignore).drop(columns=TARGET_COL) \n",
    "\n",
    "        min_train_idx = df_test['time_idx'].min() - prediction_length\n",
    "        max_train_idx = df_test['time_idx'].max()\n",
    "        cutoff_idx = np.arange(min_train_idx, max_train_idx + 1, 1)\n",
    "        df_rec = df_cv.loc[df_cv['time_idx'].isin(cutoff_idx)]    \n",
    "        \n",
    "        break"
   ]
  },
  {
   "cell_type": "code",
   "execution_count": null,
   "id": "8935ff64-219a-4117-85ef-7c4e7df4e69a",
   "metadata": {},
   "outputs": [],
   "source": []
  },
  {
   "cell_type": "code",
   "execution_count": 7,
   "id": "ff1b8361-458f-476d-9ef2-ddfd65061b96",
   "metadata": {},
   "outputs": [],
   "source": [
    "def objective(trial):\n",
    "     \n",
    "    params = {\n",
    "        \"objective\": \"tweedie\",\n",
    "        #\"tweedie_variance_power\": trial.suggest_float(\"tweedie_variance_power\", 1.1, 1.6, step=0.1),\n",
    "        \"tweedie_variance_power\": trial.suggest_categorical(\"tweedie_variance_power\", [1.2, 1.3, 1.4]),\n",
    "        \"n_estimators\": trial.suggest_categorical(\"n_estimators\", [2000]),\n",
    "        \"learning_rate\": trial.suggest_float(\"learning_rate\", 0.01, 0.3),\n",
    "        \"num_leaves\": trial.suggest_int(\"num_leaves\", 20, 3000, step=20),\n",
    "        \"max_depth\": trial.suggest_int(\"max_depth\", 3, 12),\n",
    "        \"min_data_in_leaf\": trial.suggest_int(\"min_data_in_leaf\", 200, 10000, step=100),\n",
    "        \"lambda_l1\": trial.suggest_int(\"lambda_l1\", 0, 100, step=5),\n",
    "        \"lambda_l2\": trial.suggest_int(\"lambda_l2\", 0, 100, step=5),\n",
    "        \"min_gain_to_split\": trial.suggest_float(\"min_gain_to_split\", 0, 15),\n",
    "        \"bagging_fraction\": trial.suggest_float(\n",
    "            \"bagging_fraction\", 0.2, 0.95, step=0.1\n",
    "        ),\n",
    "        \"bagging_freq\": trial.suggest_categorical(\"bagging_freq\", [1]),\n",
    "        \"feature_fraction\": trial.suggest_float(\n",
    "            \"feature_fraction\", 0.2, 0.95, step=0.1\n",
    "        ),\n",
    "        \"random_state\": 1990,\n",
    "        \"metric\": \"rmse\",\n",
    "        \"verbose\": -1\n",
    "    }\n",
    "    \n",
    "    list_rmsle = []\n",
    "    \n",
    "    for train_idx, test_idx in tqdm(CVGroupTimeSeriesSplit(df_cv, prediction_length=16)):\n",
    "    \n",
    "        df_train = df_cv.loc[df_cv['time_idx'].isin(train_idx)].drop(columns=col_to_ignore)\n",
    "        df_test = df_cv.loc[df_cv['time_idx'].isin(test_idx)].drop(columns=col_to_ignore).drop(columns=TARGET_COL) \n",
    "\n",
    "        min_train_idx = df_test['time_idx'].min() - prediction_length\n",
    "        max_train_idx = df_test['time_idx'].max()\n",
    "        cutoff_idx = np.arange(min_train_idx, max_train_idx + 1, 1)\n",
    "        df_rec = df_cv.loc[df_cv['time_idx'].isin(cutoff_idx)]    \n",
    "\n",
    "        df_rec.loc[df_rec['time_idx'].isin(test_idx), 'is_future'] = True\n",
    "        df_rec.loc[df_rec[\"is_future\"] == True, \"sales\"] = np.nan\n",
    "        \n",
    "        i_val = df_train.time_idx.max() - time_val\n",
    "\n",
    "        df_train_val = df_train.loc[df_train['time_idx'] <= i_val]\n",
    "        df_val = df_train.loc[df_train['time_idx'] > i_val]\n",
    "        \n",
    "        print('train id limit', i_val)\n",
    "        print('val id', df_val.time_idx.unique())\n",
    "        print('id time to pred', test_idx)\n",
    "        day, month, year = df_val.iloc[-1]['day'], df_val.iloc[-1]['month'], df_val.iloc[-1]['year']\n",
    "        print(f'date: {day}/{month}/{year}')\n",
    "        \n",
    "        train_ds = lgb.Dataset(\n",
    "        data=df_train_val.drop(columns=TARGET_COL), \n",
    "        label=df_train_val[TARGET_COL]\n",
    "        )\n",
    "        \n",
    "        val_ds = lgb.Dataset(\n",
    "        data=df_val.drop(columns=TARGET_COL), \n",
    "        label=df_val[TARGET_COL]\n",
    "        )\n",
    "\n",
    "        gbm = lgb.train(\n",
    "        params=params,\n",
    "        train_set=train_ds,\n",
    "        valid_sets=val_ds,\n",
    "        callbacks=[log_evaluation(period=50), early_stopping(100)]\n",
    "        )\n",
    "\n",
    "        first_future_time_idx = test_idx.min()\n",
    "        df_rec.loc[:, \"forecast_step\"] = df_rec.loc[:, \"time_idx\"] - first_future_time_idx + 1 \n",
    "\n",
    "        for fs in range(1, prediction_length + 1):\n",
    "\n",
    "            # predict one step\n",
    "            df_predict = df_rec.loc[df_rec[\"forecast_step\"] == fs].drop(columns=col_to_ignore + [TARGET_COL])\n",
    "            predictions = np.clip(gbm.predict(df_predict), a_min=0, a_max=None)\n",
    "\n",
    "            # update sales_quantity usings predictions\n",
    "            df_rec.loc[df_rec[\"forecast_step\"] == fs, \"sales\"] = predictions\n",
    "\n",
    "            # update target lags & rollings\n",
    "            calculate_lags(df_rec, TARGET_COL, lags_target)\n",
    "            calculate_rollings(df_rec, TARGET_COL, rollings_target)\n",
    "\n",
    "        df_forecast = df_rec.loc[df_rec[\"is_future\"] == True, [\"ts_id\", \"date\", \"sales\"]]\n",
    "        df_forecast[\"forecast\"] = df_forecast[\"sales\"].round(0).astype(np.float16)\n",
    "        df_forecast.drop(columns=\"sales\", inplace=True)\n",
    "\n",
    "        df_error = pd.merge(df_forecast, clean[['ts_id', 'date', 'sales']], how=\"left\", on=['ts_id', 'date'])\n",
    "        rmsle = RMSLE(df_error[\"sales\"], df_error[\"forecast\"])\n",
    "        print('rmsle: ', rmsle)\n",
    "        list_rmsle.append(rmsle)\n",
    "            \n",
    "    rmsle_mean = np.mean(list_rmsle)\n",
    "    \n",
    "    return rmsle_mean"
   ]
  },
  {
   "cell_type": "code",
   "execution_count": null,
   "id": "8e35c12c-ee95-4c4b-809a-2e72917e3949",
   "metadata": {},
   "outputs": [
    {
     "name": "stderr",
     "output_type": "stream",
     "text": [
      "\u001b[32m[I 2022-05-27 14:07:23,306]\u001b[0m A new study created in memory with name: no-name-0282ae77-d3ab-4666-9a70-f40380f6b518\u001b[0m\n",
      "0it [00:00, ?it/s]"
     ]
    },
    {
     "name": "stdout",
     "output_type": "stream",
     "text": [
      "idx_fold : 1\n",
      "train id limit 1665\n",
      "val id [1666 1667 1668 1669 1670 1671]\n",
      "id time to pred [1672 1673 1674 1675 1676 1677 1678 1679 1680 1681 1682 1683 1684 1685\n",
      " 1686 1687]\n",
      "date: 30/7/2017\n",
      "Training until validation scores don't improve for 100 rounds\n",
      "[50]\tvalid_0's rmse: 236.459\n",
      "[100]\tvalid_0's rmse: 223.98\n",
      "[150]\tvalid_0's rmse: 221.412\n",
      "[200]\tvalid_0's rmse: 220.846\n",
      "Early stopping, best iteration is:\n",
      "[117]\tvalid_0's rmse: 218.21\n"
     ]
    },
    {
     "name": "stderr",
     "output_type": "stream",
     "text": [
      "1it [01:28, 88.31s/it]"
     ]
    },
    {
     "name": "stdout",
     "output_type": "stream",
     "text": [
      "rmsle:  0.46895950988968627\n",
      "idx_fold : 2\n",
      "train id limit 1649\n",
      "val id [1650 1651 1652 1653 1654 1655]\n",
      "id time to pred [1656 1657 1658 1659 1660 1661 1662 1663 1664 1665 1666 1667 1668 1669\n",
      " 1670 1671]\n",
      "date: 14/7/2017\n",
      "Training until validation scores don't improve for 100 rounds\n",
      "[50]\tvalid_0's rmse: 233.729\n",
      "[100]\tvalid_0's rmse: 216.856\n",
      "[150]\tvalid_0's rmse: 210.471\n",
      "[200]\tvalid_0's rmse: 206.927\n",
      "[250]\tvalid_0's rmse: 206.556\n",
      "[300]\tvalid_0's rmse: 205.586\n",
      "[350]\tvalid_0's rmse: 205.672\n",
      "[400]\tvalid_0's rmse: 204.492\n",
      "[450]\tvalid_0's rmse: 204.465\n",
      "[500]\tvalid_0's rmse: 204.388\n",
      "[550]\tvalid_0's rmse: 205.178\n",
      "Early stopping, best iteration is:\n",
      "[476]\tvalid_0's rmse: 203.953\n"
     ]
    },
    {
     "name": "stderr",
     "output_type": "stream",
     "text": [
      "2it [03:45, 117.16s/it]"
     ]
    },
    {
     "name": "stdout",
     "output_type": "stream",
     "text": [
      "rmsle:  0.4414383200569872\n",
      "idx_fold : 3\n",
      "train id limit 1633\n",
      "val id [1634 1635 1636 1637 1638 1639]\n",
      "id time to pred [1640 1641 1642 1643 1644 1645 1646 1647 1648 1649 1650 1651 1652 1653\n",
      " 1654 1655]\n",
      "date: 28/6/2017\n",
      "Training until validation scores don't improve for 100 rounds\n",
      "[50]\tvalid_0's rmse: 256.26\n",
      "[100]\tvalid_0's rmse: 241.518\n",
      "[150]\tvalid_0's rmse: 246.652\n",
      "[200]\tvalid_0's rmse: 241.64\n",
      "Early stopping, best iteration is:\n",
      "[101]\tvalid_0's rmse: 240.609\n"
     ]
    },
    {
     "name": "stderr",
     "output_type": "stream",
     "text": [
      "3it [05:14, 104.44s/it]"
     ]
    },
    {
     "name": "stdout",
     "output_type": "stream",
     "text": [
      "rmsle:  0.44361814142440387\n",
      "idx_fold : 22\n",
      "train id limit 1329\n",
      "val id [1330 1331 1332 1333 1334 1335]\n",
      "id time to pred [1336 1337 1338 1339 1340 1341 1342 1343 1344 1345 1346 1347 1348 1349\n",
      " 1350 1351]\n",
      "date: 28/8/2016\n",
      "Training until validation scores don't improve for 100 rounds\n",
      "[50]\tvalid_0's rmse: 140.626\n",
      "[100]\tvalid_0's rmse: 136.678\n",
      "[150]\tvalid_0's rmse: 135.617\n",
      "[200]\tvalid_0's rmse: 135.388\n",
      "[250]\tvalid_0's rmse: 135.276\n",
      "Early stopping, best iteration is:\n",
      "[192]\tvalid_0's rmse: 133.792\n"
     ]
    },
    {
     "name": "stderr",
     "output_type": "stream",
     "text": [
      "4it [06:35, 94.87s/it] "
     ]
    },
    {
     "name": "stdout",
     "output_type": "stream",
     "text": [
      "rmsle:  0.7281259348021051\n",
      "idx_fold : 45\n",
      "train id limit 961\n",
      "val id [962 963 964 965 966 967]\n",
      "id time to pred [968 969 970 971 972 973 974 975 976 977 978 979 980 981 982 983]\n",
      "date: 26/8/2015\n",
      "Training until validation scores don't improve for 100 rounds\n",
      "[50]\tvalid_0's rmse: 203.707\n",
      "[100]\tvalid_0's rmse: 177.132\n",
      "[150]\tvalid_0's rmse: 169.519\n",
      "[200]\tvalid_0's rmse: 162.009\n",
      "[250]\tvalid_0's rmse: 162.967\n",
      "[300]\tvalid_0's rmse: 161.431\n",
      "[350]\tvalid_0's rmse: 162.549\n",
      "[400]\tvalid_0's rmse: 161.389\n",
      "Early stopping, best iteration is:\n",
      "[310]\tvalid_0's rmse: 160.13\n"
     ]
    },
    {
     "name": "stderr",
     "output_type": "stream",
     "text": [
      "5it [07:39, 91.96s/it]\n",
      "\u001b[32m[I 2022-05-27 14:15:03,113]\u001b[0m Trial 0 finished with value: 0.5301350457156787 and parameters: {'tweedie_variance_power': 1.2, 'n_estimators': 2000, 'learning_rate': 0.2633832786861684, 'num_leaves': 2220, 'max_depth': 12, 'min_data_in_leaf': 8400, 'lambda_l1': 15, 'lambda_l2': 30, 'min_gain_to_split': 3.1421077335022445, 'bagging_fraction': 0.7, 'bagging_freq': 1, 'feature_fraction': 0.7}. Best is trial 0 with value: 0.5301350457156787.\u001b[0m\n"
     ]
    },
    {
     "name": "stdout",
     "output_type": "stream",
     "text": [
      "rmsle:  0.5685333224052114\n"
     ]
    },
    {
     "name": "stderr",
     "output_type": "stream",
     "text": [
      "0it [00:00, ?it/s]"
     ]
    },
    {
     "name": "stdout",
     "output_type": "stream",
     "text": [
      "idx_fold : 1\n",
      "train id limit 1665\n",
      "val id [1666 1667 1668 1669 1670 1671]\n",
      "id time to pred [1672 1673 1674 1675 1676 1677 1678 1679 1680 1681 1682 1683 1684 1685\n",
      " 1686 1687]\n",
      "date: 30/7/2017\n",
      "Training until validation scores don't improve for 100 rounds\n",
      "[50]\tvalid_0's rmse: 229.005\n",
      "[100]\tvalid_0's rmse: 218.624\n",
      "[150]\tvalid_0's rmse: 215.081\n",
      "[200]\tvalid_0's rmse: 217.573\n",
      "[250]\tvalid_0's rmse: 216.786\n",
      "Early stopping, best iteration is:\n",
      "[159]\tvalid_0's rmse: 214.732\n"
     ]
    },
    {
     "name": "stderr",
     "output_type": "stream",
     "text": [
      "1it [01:26, 86.85s/it]"
     ]
    },
    {
     "name": "stdout",
     "output_type": "stream",
     "text": [
      "rmsle:  0.47231484360471365\n",
      "idx_fold : 2\n",
      "train id limit 1649\n",
      "val id [1650 1651 1652 1653 1654 1655]\n",
      "id time to pred [1656 1657 1658 1659 1660 1661 1662 1663 1664 1665 1666 1667 1668 1669\n",
      " 1670 1671]\n",
      "date: 14/7/2017\n",
      "Training until validation scores don't improve for 100 rounds\n",
      "[50]\tvalid_0's rmse: 217.366\n",
      "[100]\tvalid_0's rmse: 207.627\n",
      "[150]\tvalid_0's rmse: 207.761\n",
      "[200]\tvalid_0's rmse: 206.155\n",
      "[250]\tvalid_0's rmse: 204.111\n",
      "[300]\tvalid_0's rmse: 204.496\n",
      "Early stopping, best iteration is:\n",
      "[229]\tvalid_0's rmse: 203.585\n"
     ]
    },
    {
     "name": "stderr",
     "output_type": "stream",
     "text": [
      "2it [03:02, 92.19s/it]"
     ]
    },
    {
     "name": "stdout",
     "output_type": "stream",
     "text": [
      "rmsle:  0.44377121194701963\n",
      "idx_fold : 3\n",
      "train id limit 1633\n",
      "val id [1634 1635 1636 1637 1638 1639]\n",
      "id time to pred [1640 1641 1642 1643 1644 1645 1646 1647 1648 1649 1650 1651 1652 1653\n",
      " 1654 1655]\n",
      "date: 28/6/2017\n",
      "Training until validation scores don't improve for 100 rounds\n",
      "[50]\tvalid_0's rmse: 220.613\n",
      "[100]\tvalid_0's rmse: 228\n",
      "[150]\tvalid_0's rmse: 228.636\n",
      "Early stopping, best iteration is:\n",
      "[74]\tvalid_0's rmse: 219.365\n"
     ]
    },
    {
     "name": "stderr",
     "output_type": "stream",
     "text": [
      "3it [04:20, 85.48s/it]"
     ]
    },
    {
     "name": "stdout",
     "output_type": "stream",
     "text": [
      "rmsle:  0.45259897455818193\n",
      "idx_fold : 22\n",
      "train id limit 1329\n",
      "val id [1330 1331 1332 1333 1334 1335]\n",
      "id time to pred [1336 1337 1338 1339 1340 1341 1342 1343 1344 1345 1346 1347 1348 1349\n",
      " 1350 1351]\n",
      "date: 28/8/2016\n",
      "Training until validation scores don't improve for 100 rounds\n",
      "[50]\tvalid_0's rmse: 134.683\n",
      "[100]\tvalid_0's rmse: 129.826\n",
      "[150]\tvalid_0's rmse: 129.718\n",
      "[200]\tvalid_0's rmse: 129.823\n",
      "Early stopping, best iteration is:\n",
      "[123]\tvalid_0's rmse: 128.898\n"
     ]
    },
    {
     "name": "stderr",
     "output_type": "stream",
     "text": [
      "4it [05:26, 77.73s/it]"
     ]
    },
    {
     "name": "stdout",
     "output_type": "stream",
     "text": [
      "rmsle:  0.6755534671552238\n",
      "idx_fold : 45\n",
      "train id limit 961\n",
      "val id [962 963 964 965 966 967]\n",
      "id time to pred [968 969 970 971 972 973 974 975 976 977 978 979 980 981 982 983]\n",
      "date: 26/8/2015\n",
      "Training until validation scores don't improve for 100 rounds\n",
      "[50]\tvalid_0's rmse: 177.433\n",
      "[100]\tvalid_0's rmse: 176.01\n",
      "[150]\tvalid_0's rmse: 171.246\n",
      "[200]\tvalid_0's rmse: 168.012\n",
      "[250]\tvalid_0's rmse: 168.168\n",
      "Early stopping, best iteration is:\n",
      "[190]\tvalid_0's rmse: 167.131\n"
     ]
    },
    {
     "name": "stderr",
     "output_type": "stream",
     "text": [
      "5it [06:11, 74.39s/it]\n",
      "\u001b[32m[I 2022-05-27 14:21:15,078]\u001b[0m Trial 1 finished with value: 0.5224654557868512 and parameters: {'tweedie_variance_power': 1.2, 'n_estimators': 2000, 'learning_rate': 0.2792250505884081, 'num_leaves': 2900, 'max_depth': 9, 'min_data_in_leaf': 2500, 'lambda_l1': 75, 'lambda_l2': 40, 'min_gain_to_split': 12.952840086847488, 'bagging_fraction': 0.6000000000000001, 'bagging_freq': 1, 'feature_fraction': 0.9}. Best is trial 1 with value: 0.5224654557868512.\u001b[0m\n"
     ]
    },
    {
     "name": "stdout",
     "output_type": "stream",
     "text": [
      "rmsle:  0.5680887816691175\n"
     ]
    },
    {
     "name": "stderr",
     "output_type": "stream",
     "text": [
      "0it [00:00, ?it/s]"
     ]
    },
    {
     "name": "stdout",
     "output_type": "stream",
     "text": [
      "idx_fold : 1\n",
      "train id limit 1665\n",
      "val id [1666 1667 1668 1669 1670 1671]\n",
      "id time to pred [1672 1673 1674 1675 1676 1677 1678 1679 1680 1681 1682 1683 1684 1685\n",
      " 1686 1687]\n",
      "date: 30/7/2017\n",
      "Training until validation scores don't improve for 100 rounds\n",
      "[50]\tvalid_0's rmse: 932.664\n",
      "[100]\tvalid_0's rmse: 523.662\n",
      "[150]\tvalid_0's rmse: 329.059\n",
      "[200]\tvalid_0's rmse: 270.935\n",
      "[250]\tvalid_0's rmse: 253.157\n",
      "[300]\tvalid_0's rmse: 243.387\n",
      "[350]\tvalid_0's rmse: 237.331\n",
      "[400]\tvalid_0's rmse: 231.17\n",
      "[450]\tvalid_0's rmse: 226.039\n",
      "[500]\tvalid_0's rmse: 222.977\n",
      "[550]\tvalid_0's rmse: 220.979\n",
      "[600]\tvalid_0's rmse: 220.081\n",
      "[650]\tvalid_0's rmse: 219.063\n",
      "[700]\tvalid_0's rmse: 217.971\n",
      "[750]\tvalid_0's rmse: 216.669\n",
      "[800]\tvalid_0's rmse: 215.781\n",
      "[850]\tvalid_0's rmse: 215.898\n",
      "[900]\tvalid_0's rmse: 215.567\n",
      "[950]\tvalid_0's rmse: 215.384\n",
      "[1000]\tvalid_0's rmse: 214.686\n",
      "[1050]\tvalid_0's rmse: 214.032\n",
      "[1100]\tvalid_0's rmse: 213.9\n",
      "[1150]\tvalid_0's rmse: 213.748\n",
      "[1200]\tvalid_0's rmse: 213.825\n",
      "[1250]\tvalid_0's rmse: 213.934\n",
      "Early stopping, best iteration is:\n",
      "[1155]\tvalid_0's rmse: 213.691\n"
     ]
    },
    {
     "name": "stderr",
     "output_type": "stream",
     "text": [
      "1it [04:01, 241.38s/it]"
     ]
    },
    {
     "name": "stdout",
     "output_type": "stream",
     "text": [
      "rmsle:  0.46264333103062977\n",
      "idx_fold : 2\n",
      "train id limit 1649\n",
      "val id [1650 1651 1652 1653 1654 1655]\n",
      "id time to pred [1656 1657 1658 1659 1660 1661 1662 1663 1664 1665 1666 1667 1668 1669\n",
      " 1670 1671]\n",
      "date: 14/7/2017\n",
      "Training until validation scores don't improve for 100 rounds\n",
      "[50]\tvalid_0's rmse: 831.588\n",
      "[100]\tvalid_0's rmse: 433.029\n",
      "[150]\tvalid_0's rmse: 271.119\n",
      "[200]\tvalid_0's rmse: 240.719\n",
      "[250]\tvalid_0's rmse: 235.317\n",
      "[300]\tvalid_0's rmse: 231.181\n",
      "[350]\tvalid_0's rmse: 228.884\n",
      "[400]\tvalid_0's rmse: 225.789\n",
      "[450]\tvalid_0's rmse: 219.85\n",
      "[500]\tvalid_0's rmse: 217.791\n",
      "[550]\tvalid_0's rmse: 216.3\n",
      "[600]\tvalid_0's rmse: 214.577\n",
      "[650]\tvalid_0's rmse: 213.318\n",
      "[700]\tvalid_0's rmse: 211.806\n",
      "[750]\tvalid_0's rmse: 210.869\n",
      "[800]\tvalid_0's rmse: 210.076\n",
      "[850]\tvalid_0's rmse: 209.185\n",
      "[900]\tvalid_0's rmse: 208.854\n",
      "[950]\tvalid_0's rmse: 208.096\n",
      "[1000]\tvalid_0's rmse: 207.557\n",
      "[1050]\tvalid_0's rmse: 207.175\n",
      "[1100]\tvalid_0's rmse: 206.627\n",
      "[1150]\tvalid_0's rmse: 206.311\n",
      "[1200]\tvalid_0's rmse: 206.175\n",
      "[1250]\tvalid_0's rmse: 206.022\n",
      "[1300]\tvalid_0's rmse: 205.676\n",
      "[1350]\tvalid_0's rmse: 205.563\n",
      "[1400]\tvalid_0's rmse: 205.152\n",
      "[1450]\tvalid_0's rmse: 205.031\n",
      "[1500]\tvalid_0's rmse: 204.827\n",
      "[1550]\tvalid_0's rmse: 204.633\n",
      "[1600]\tvalid_0's rmse: 204.515\n",
      "[1650]\tvalid_0's rmse: 204.457\n",
      "[1700]\tvalid_0's rmse: 204.399\n",
      "[1750]\tvalid_0's rmse: 204.066\n",
      "[1800]\tvalid_0's rmse: 203.797\n",
      "[1850]\tvalid_0's rmse: 203.808\n",
      "[1900]\tvalid_0's rmse: 203.569\n",
      "[1950]\tvalid_0's rmse: 203.415\n",
      "[2000]\tvalid_0's rmse: 203.228\n",
      "Did not meet early stopping. Best iteration is:\n",
      "[1983]\tvalid_0's rmse: 203.191\n"
     ]
    },
    {
     "name": "stderr",
     "output_type": "stream",
     "text": [
      "2it [09:42, 299.99s/it]"
     ]
    },
    {
     "name": "stdout",
     "output_type": "stream",
     "text": [
      "rmsle:  0.42563011000541623\n",
      "idx_fold : 3\n",
      "train id limit 1633\n",
      "val id [1634 1635 1636 1637 1638 1639]\n",
      "id time to pred [1640 1641 1642 1643 1644 1645 1646 1647 1648 1649 1650 1651 1652 1653\n",
      " 1654 1655]\n",
      "date: 28/6/2017\n",
      "Training until validation scores don't improve for 100 rounds\n",
      "[50]\tvalid_0's rmse: 892.953\n",
      "[100]\tvalid_0's rmse: 466.215\n",
      "[150]\tvalid_0's rmse: 284.384\n",
      "[200]\tvalid_0's rmse: 247.725\n",
      "[250]\tvalid_0's rmse: 241.758\n",
      "[300]\tvalid_0's rmse: 239.737\n",
      "[350]\tvalid_0's rmse: 237.531\n",
      "[400]\tvalid_0's rmse: 244.364\n",
      "[450]\tvalid_0's rmse: 250.957\n",
      "Early stopping, best iteration is:\n",
      "[358]\tvalid_0's rmse: 237.253\n"
     ]
    },
    {
     "name": "stderr",
     "output_type": "stream",
     "text": [
      "3it [12:02, 227.06s/it]"
     ]
    },
    {
     "name": "stdout",
     "output_type": "stream",
     "text": [
      "rmsle:  0.4305545597700339\n",
      "idx_fold : 22\n",
      "train id limit 1329\n",
      "val id [1330 1331 1332 1333 1334 1335]\n",
      "id time to pred [1336 1337 1338 1339 1340 1341 1342 1343 1344 1345 1346 1347 1348 1349\n",
      " 1350 1351]\n",
      "date: 28/8/2016\n",
      "Training until validation scores don't improve for 100 rounds\n",
      "[50]\tvalid_0's rmse: 731.262\n",
      "[100]\tvalid_0's rmse: 345.058\n",
      "[150]\tvalid_0's rmse: 165.936\n",
      "[200]\tvalid_0's rmse: 126.668\n",
      "[250]\tvalid_0's rmse: 122.358\n",
      "[300]\tvalid_0's rmse: 121.615\n",
      "[350]\tvalid_0's rmse: 121.254\n",
      "[400]\tvalid_0's rmse: 120.196\n",
      "[450]\tvalid_0's rmse: 120.128\n",
      "[500]\tvalid_0's rmse: 119.84\n",
      "[550]\tvalid_0's rmse: 119.731\n",
      "[600]\tvalid_0's rmse: 119.945\n",
      "Early stopping, best iteration is:\n",
      "[546]\tvalid_0's rmse: 119.715\n"
     ]
    },
    {
     "name": "stderr",
     "output_type": "stream",
     "text": [
      "4it [14:47, 202.50s/it]"
     ]
    },
    {
     "name": "stdout",
     "output_type": "stream",
     "text": [
      "rmsle:  0.7448845465866368\n",
      "idx_fold : 45\n",
      "train id limit 961\n",
      "val id [962 963 964 965 966 967]\n",
      "id time to pred [968 969 970 971 972 973 974 975 976 977 978 979 980 981 982 983]\n",
      "date: 26/8/2015\n",
      "Training until validation scores don't improve for 100 rounds\n",
      "[50]\tvalid_0's rmse: 761.285\n",
      "[100]\tvalid_0's rmse: 378.78\n",
      "[150]\tvalid_0's rmse: 210.986\n",
      "[200]\tvalid_0's rmse: 178.843\n",
      "[250]\tvalid_0's rmse: 171.368\n",
      "[300]\tvalid_0's rmse: 168.752\n",
      "[350]\tvalid_0's rmse: 164.968\n",
      "[400]\tvalid_0's rmse: 161.323\n",
      "[450]\tvalid_0's rmse: 158.988\n",
      "[500]\tvalid_0's rmse: 157.823\n",
      "[550]\tvalid_0's rmse: 157.388\n",
      "[600]\tvalid_0's rmse: 156.662\n",
      "[650]\tvalid_0's rmse: 155.939\n",
      "[700]\tvalid_0's rmse: 155.438\n",
      "[750]\tvalid_0's rmse: 154.917\n",
      "[800]\tvalid_0's rmse: 154.557\n",
      "[850]\tvalid_0's rmse: 154.542\n",
      "Early stopping, best iteration is:\n",
      "[784]\tvalid_0's rmse: 154.455\n"
     ]
    },
    {
     "name": "stderr",
     "output_type": "stream",
     "text": [
      "5it [16:36, 199.22s/it]\n",
      "\u001b[32m[I 2022-05-27 14:37:51,171]\u001b[0m Trial 2 finished with value: 0.5129340365106337 and parameters: {'tweedie_variance_power': 1.4, 'n_estimators': 2000, 'learning_rate': 0.020475630746185726, 'num_leaves': 1260, 'max_depth': 8, 'min_data_in_leaf': 1300, 'lambda_l1': 35, 'lambda_l2': 25, 'min_gain_to_split': 13.715455833723185, 'bagging_fraction': 0.6000000000000001, 'bagging_freq': 1, 'feature_fraction': 0.8}. Best is trial 2 with value: 0.5129340365106337.\u001b[0m\n"
     ]
    },
    {
     "name": "stdout",
     "output_type": "stream",
     "text": [
      "rmsle:  0.5009576351604518\n"
     ]
    },
    {
     "name": "stderr",
     "output_type": "stream",
     "text": [
      "0it [00:00, ?it/s]"
     ]
    },
    {
     "name": "stdout",
     "output_type": "stream",
     "text": [
      "idx_fold : 1\n",
      "train id limit 1665\n",
      "val id [1666 1667 1668 1669 1670 1671]\n",
      "id time to pred [1672 1673 1674 1675 1676 1677 1678 1679 1680 1681 1682 1683 1684 1685\n",
      " 1686 1687]\n",
      "date: 30/7/2017\n",
      "Training until validation scores don't improve for 100 rounds\n",
      "[50]\tvalid_0's rmse: 292.75\n",
      "[100]\tvalid_0's rmse: 257.077\n",
      "[150]\tvalid_0's rmse: 248.971\n",
      "[200]\tvalid_0's rmse: 247.889\n",
      "[250]\tvalid_0's rmse: 244.624\n",
      "[300]\tvalid_0's rmse: 244.122\n",
      "[350]\tvalid_0's rmse: 239.028\n",
      "[400]\tvalid_0's rmse: 237.36\n",
      "[450]\tvalid_0's rmse: 236.019\n",
      "[500]\tvalid_0's rmse: 234.584\n",
      "[550]\tvalid_0's rmse: 232.471\n",
      "[600]\tvalid_0's rmse: 232.104\n",
      "[650]\tvalid_0's rmse: 231.08\n",
      "[700]\tvalid_0's rmse: 227.914\n",
      "[750]\tvalid_0's rmse: 227.698\n",
      "[800]\tvalid_0's rmse: 226.218\n",
      "[850]\tvalid_0's rmse: 225.344\n",
      "[900]\tvalid_0's rmse: 223.943\n",
      "[950]\tvalid_0's rmse: 222.655\n",
      "[1000]\tvalid_0's rmse: 224.174\n",
      "Early stopping, best iteration is:\n",
      "[946]\tvalid_0's rmse: 222.531\n"
     ]
    },
    {
     "name": "stderr",
     "output_type": "stream",
     "text": [
      "1it [01:47, 107.52s/it]"
     ]
    },
    {
     "name": "stdout",
     "output_type": "stream",
     "text": [
      "rmsle:  0.487657063670145\n",
      "idx_fold : 2\n",
      "train id limit 1649\n",
      "val id [1650 1651 1652 1653 1654 1655]\n",
      "id time to pred [1656 1657 1658 1659 1660 1661 1662 1663 1664 1665 1666 1667 1668 1669\n",
      " 1670 1671]\n",
      "date: 14/7/2017\n",
      "Training until validation scores don't improve for 100 rounds\n",
      "[50]\tvalid_0's rmse: 278.225\n",
      "[100]\tvalid_0's rmse: 249.622\n",
      "[150]\tvalid_0's rmse: 240.244\n",
      "[200]\tvalid_0's rmse: 234.604\n",
      "[250]\tvalid_0's rmse: 232.219\n",
      "[300]\tvalid_0's rmse: 231.151\n",
      "[350]\tvalid_0's rmse: 227.475\n",
      "[400]\tvalid_0's rmse: 227.236\n",
      "[450]\tvalid_0's rmse: 224.253\n",
      "[500]\tvalid_0's rmse: 223.256\n",
      "[550]\tvalid_0's rmse: 222.311\n",
      "[600]\tvalid_0's rmse: 221.058\n",
      "[650]\tvalid_0's rmse: 221.181\n",
      "[700]\tvalid_0's rmse: 220.908\n",
      "Early stopping, best iteration is:\n",
      "[623]\tvalid_0's rmse: 220.492\n"
     ]
    },
    {
     "name": "stderr",
     "output_type": "stream",
     "text": [
      "2it [03:17, 96.97s/it] "
     ]
    },
    {
     "name": "stdout",
     "output_type": "stream",
     "text": [
      "rmsle:  0.4658327991804512\n",
      "idx_fold : 3\n",
      "train id limit 1633\n",
      "val id [1634 1635 1636 1637 1638 1639]\n",
      "id time to pred [1640 1641 1642 1643 1644 1645 1646 1647 1648 1649 1650 1651 1652 1653\n",
      " 1654 1655]\n",
      "date: 28/6/2017\n",
      "Training until validation scores don't improve for 100 rounds\n",
      "[50]\tvalid_0's rmse: 295.714\n",
      "[100]\tvalid_0's rmse: 270.783\n",
      "[150]\tvalid_0's rmse: 259.805\n",
      "[200]\tvalid_0's rmse: 254.743\n",
      "[250]\tvalid_0's rmse: 254.324\n",
      "[300]\tvalid_0's rmse: 257.79\n",
      "Early stopping, best iteration is:\n",
      "[247]\tvalid_0's rmse: 252.08\n"
     ]
    },
    {
     "name": "stderr",
     "output_type": "stream",
     "text": [
      "3it [04:27, 84.76s/it]"
     ]
    },
    {
     "name": "stdout",
     "output_type": "stream",
     "text": [
      "rmsle:  0.4655487537530538\n",
      "idx_fold : 22\n",
      "train id limit 1329\n",
      "val id [1330 1331 1332 1333 1334 1335]\n",
      "id time to pred [1336 1337 1338 1339 1340 1341 1342 1343 1344 1345 1346 1347 1348 1349\n",
      " 1350 1351]\n",
      "date: 28/8/2016\n",
      "Training until validation scores don't improve for 100 rounds\n",
      "[50]\tvalid_0's rmse: 142.565\n",
      "[100]\tvalid_0's rmse: 145.841\n",
      "[150]\tvalid_0's rmse: 144.881\n",
      "Early stopping, best iteration is:\n",
      "[68]\tvalid_0's rmse: 140.016\n"
     ]
    },
    {
     "name": "stderr",
     "output_type": "stream",
     "text": [
      "4it [05:16, 70.90s/it]"
     ]
    },
    {
     "name": "stdout",
     "output_type": "stream",
     "text": [
      "rmsle:  0.7822429769185372\n",
      "idx_fold : 45\n",
      "train id limit 961\n",
      "val id [962 963 964 965 966 967]\n",
      "id time to pred [968 969 970 971 972 973 974 975 976 977 978 979 980 981 982 983]\n",
      "date: 26/8/2015\n",
      "Training until validation scores don't improve for 100 rounds\n",
      "[50]\tvalid_0's rmse: 218.294\n",
      "[100]\tvalid_0's rmse: 192.546\n",
      "[150]\tvalid_0's rmse: 183.821\n",
      "[200]\tvalid_0's rmse: 177.742\n",
      "[250]\tvalid_0's rmse: 174.147\n",
      "[300]\tvalid_0's rmse: 169.531\n",
      "[350]\tvalid_0's rmse: 164.801\n",
      "[400]\tvalid_0's rmse: 164.647\n",
      "[450]\tvalid_0's rmse: 163.59\n",
      "[500]\tvalid_0's rmse: 162.891\n",
      "[550]\tvalid_0's rmse: 161.707\n",
      "[600]\tvalid_0's rmse: 160.311\n",
      "[650]\tvalid_0's rmse: 158.938\n",
      "[700]\tvalid_0's rmse: 160.308\n",
      "[750]\tvalid_0's rmse: 159.105\n",
      "Early stopping, best iteration is:\n",
      "[658]\tvalid_0's rmse: 158.046\n"
     ]
    },
    {
     "name": "stderr",
     "output_type": "stream",
     "text": [
      "5it [06:03, 72.72s/it]\n",
      "\u001b[32m[I 2022-05-27 14:43:54,756]\u001b[0m Trial 3 finished with value: 0.563907897871254 and parameters: {'tweedie_variance_power': 1.2, 'n_estimators': 2000, 'learning_rate': 0.13557791647555043, 'num_leaves': 560, 'max_depth': 5, 'min_data_in_leaf': 2200, 'lambda_l1': 50, 'lambda_l2': 100, 'min_gain_to_split': 0.4737033691923842, 'bagging_fraction': 0.2, 'bagging_freq': 1, 'feature_fraction': 0.2}. Best is trial 2 with value: 0.5129340365106337.\u001b[0m\n"
     ]
    },
    {
     "name": "stdout",
     "output_type": "stream",
     "text": [
      "rmsle:  0.618257895834083\n"
     ]
    },
    {
     "name": "stderr",
     "output_type": "stream",
     "text": [
      "0it [00:00, ?it/s]"
     ]
    },
    {
     "name": "stdout",
     "output_type": "stream",
     "text": [
      "idx_fold : 1\n",
      "train id limit 1665\n",
      "val id [1666 1667 1668 1669 1670 1671]\n",
      "id time to pred [1672 1673 1674 1675 1676 1677 1678 1679 1680 1681 1682 1683 1684 1685\n",
      " 1686 1687]\n",
      "date: 30/7/2017\n",
      "Training until validation scores don't improve for 100 rounds\n",
      "[50]\tvalid_0's rmse: 231.19\n",
      "[100]\tvalid_0's rmse: 222.646\n",
      "[150]\tvalid_0's rmse: 215.214\n",
      "[200]\tvalid_0's rmse: 213.593\n",
      "[250]\tvalid_0's rmse: 212.45\n",
      "[300]\tvalid_0's rmse: 211.785\n",
      "[350]\tvalid_0's rmse: 211.982\n",
      "[400]\tvalid_0's rmse: 214.814\n",
      "Early stopping, best iteration is:\n",
      "[335]\tvalid_0's rmse: 211.153\n"
     ]
    },
    {
     "name": "stderr",
     "output_type": "stream",
     "text": [
      "1it [02:02, 122.74s/it]"
     ]
    },
    {
     "name": "stdout",
     "output_type": "stream",
     "text": [
      "rmsle:  0.4680848285460056\n",
      "idx_fold : 2\n",
      "train id limit 1649\n",
      "val id [1650 1651 1652 1653 1654 1655]\n",
      "id time to pred [1656 1657 1658 1659 1660 1661 1662 1663 1664 1665 1666 1667 1668 1669\n",
      " 1670 1671]\n",
      "date: 14/7/2017\n",
      "Training until validation scores don't improve for 100 rounds\n",
      "[50]\tvalid_0's rmse: 226.701\n",
      "[100]\tvalid_0's rmse: 218.201\n",
      "[150]\tvalid_0's rmse: 209.423\n",
      "[200]\tvalid_0's rmse: 209.165\n",
      "[250]\tvalid_0's rmse: 209.642\n",
      "[300]\tvalid_0's rmse: 208.509\n",
      "[350]\tvalid_0's rmse: 207.012\n",
      "[400]\tvalid_0's rmse: 206.073\n",
      "[450]\tvalid_0's rmse: 204.258\n",
      "[500]\tvalid_0's rmse: 204.371\n",
      "[550]\tvalid_0's rmse: 203.449\n",
      "[600]\tvalid_0's rmse: 203.067\n",
      "[650]\tvalid_0's rmse: 202.219\n",
      "[700]\tvalid_0's rmse: 201.897\n",
      "[750]\tvalid_0's rmse: 201.775\n",
      "[800]\tvalid_0's rmse: 201.349\n",
      "[850]\tvalid_0's rmse: 201.285\n",
      "[900]\tvalid_0's rmse: 201.071\n",
      "[950]\tvalid_0's rmse: 201.022\n",
      "[1000]\tvalid_0's rmse: 202.079\n",
      "Early stopping, best iteration is:\n",
      "[940]\tvalid_0's rmse: 200.602\n"
     ]
    },
    {
     "name": "stderr",
     "output_type": "stream",
     "text": [
      "2it [04:20, 131.37s/it]"
     ]
    },
    {
     "name": "stdout",
     "output_type": "stream",
     "text": [
      "rmsle:  0.4483571110715108\n",
      "idx_fold : 3\n",
      "train id limit 1633\n",
      "val id [1634 1635 1636 1637 1638 1639]\n",
      "id time to pred [1640 1641 1642 1643 1644 1645 1646 1647 1648 1649 1650 1651 1652 1653\n",
      " 1654 1655]\n",
      "date: 28/6/2017\n",
      "Training until validation scores don't improve for 100 rounds\n",
      "[50]\tvalid_0's rmse: 251.925\n",
      "[100]\tvalid_0's rmse: 247.964\n",
      "[150]\tvalid_0's rmse: 246.48\n",
      "[200]\tvalid_0's rmse: 245.813\n",
      "[250]\tvalid_0's rmse: 247.822\n",
      "[300]\tvalid_0's rmse: 247.915\n",
      "Early stopping, best iteration is:\n",
      "[227]\tvalid_0's rmse: 242.347\n"
     ]
    },
    {
     "name": "stderr",
     "output_type": "stream",
     "text": [
      "3it [05:38, 106.95s/it]"
     ]
    },
    {
     "name": "stdout",
     "output_type": "stream",
     "text": [
      "rmsle:  0.4366904991993038\n",
      "idx_fold : 22\n",
      "train id limit 1329\n",
      "val id [1330 1331 1332 1333 1334 1335]\n",
      "id time to pred [1336 1337 1338 1339 1340 1341 1342 1343 1344 1345 1346 1347 1348 1349\n",
      " 1350 1351]\n",
      "date: 28/8/2016\n",
      "Training until validation scores don't improve for 100 rounds\n",
      "[50]\tvalid_0's rmse: 128.337\n",
      "[100]\tvalid_0's rmse: 129.791\n",
      "Early stopping, best iteration is:\n",
      "[39]\tvalid_0's rmse: 127.308\n"
     ]
    },
    {
     "name": "stderr",
     "output_type": "stream",
     "text": [
      "4it [06:29, 85.22s/it] "
     ]
    },
    {
     "name": "stdout",
     "output_type": "stream",
     "text": [
      "rmsle:  0.7282755950739516\n",
      "idx_fold : 45\n",
      "train id limit 961\n",
      "val id [962 963 964 965 966 967]\n",
      "id time to pred [968 969 970 971 972 973 974 975 976 977 978 979 980 981 982 983]\n",
      "date: 26/8/2015\n",
      "Training until validation scores don't improve for 100 rounds\n",
      "[50]\tvalid_0's rmse: 168.973\n",
      "[100]\tvalid_0's rmse: 164.675\n",
      "[150]\tvalid_0's rmse: 158.929\n",
      "[200]\tvalid_0's rmse: 153.019\n",
      "[250]\tvalid_0's rmse: 150.089\n",
      "[300]\tvalid_0's rmse: 149.344\n",
      "[350]\tvalid_0's rmse: 149.411\n",
      "[400]\tvalid_0's rmse: 150.061\n",
      "Early stopping, best iteration is:\n",
      "[318]\tvalid_0's rmse: 147.782\n"
     ]
    },
    {
     "name": "stderr",
     "output_type": "stream",
     "text": [
      "5it [07:15, 87.03s/it]\n",
      "\u001b[32m[I 2022-05-27 14:51:09,934]\u001b[0m Trial 4 finished with value: 0.5260373025077991 and parameters: {'tweedie_variance_power': 1.4, 'n_estimators': 2000, 'learning_rate': 0.18258547897154484, 'num_leaves': 2780, 'max_depth': 9, 'min_data_in_leaf': 1700, 'lambda_l1': 70, 'lambda_l2': 25, 'min_gain_to_split': 0.4106336891528961, 'bagging_fraction': 0.4, 'bagging_freq': 1, 'feature_fraction': 0.2}. Best is trial 2 with value: 0.5129340365106337.\u001b[0m\n"
     ]
    },
    {
     "name": "stdout",
     "output_type": "stream",
     "text": [
      "rmsle:  0.5487784786482236\n"
     ]
    },
    {
     "name": "stderr",
     "output_type": "stream",
     "text": [
      "0it [00:00, ?it/s]"
     ]
    },
    {
     "name": "stdout",
     "output_type": "stream",
     "text": [
      "idx_fold : 1\n",
      "train id limit 1665\n",
      "val id [1666 1667 1668 1669 1670 1671]\n",
      "id time to pred [1672 1673 1674 1675 1676 1677 1678 1679 1680 1681 1682 1683 1684 1685\n",
      " 1686 1687]\n",
      "date: 30/7/2017\n",
      "Training until validation scores don't improve for 100 rounds\n",
      "[50]\tvalid_0's rmse: 266.774\n",
      "[100]\tvalid_0's rmse: 250.552\n",
      "[150]\tvalid_0's rmse: 237.836\n",
      "[200]\tvalid_0's rmse: 232.499\n",
      "[250]\tvalid_0's rmse: 226.902\n",
      "[300]\tvalid_0's rmse: 222.311\n",
      "[350]\tvalid_0's rmse: 221.873\n",
      "[400]\tvalid_0's rmse: 221.402\n",
      "[450]\tvalid_0's rmse: 222.757\n",
      "[500]\tvalid_0's rmse: 221.74\n",
      "Early stopping, best iteration is:\n",
      "[437]\tvalid_0's rmse: 220.188\n"
     ]
    },
    {
     "name": "stderr",
     "output_type": "stream",
     "text": [
      "1it [01:37, 97.28s/it]"
     ]
    },
    {
     "name": "stdout",
     "output_type": "stream",
     "text": [
      "rmsle:  0.4768815152207951\n",
      "idx_fold : 2\n",
      "train id limit 1649\n",
      "val id [1650 1651 1652 1653 1654 1655]\n",
      "id time to pred [1656 1657 1658 1659 1660 1661 1662 1663 1664 1665 1666 1667 1668 1669\n",
      " 1670 1671]\n",
      "date: 14/7/2017\n",
      "Training until validation scores don't improve for 100 rounds\n",
      "[50]\tvalid_0's rmse: 261.175\n",
      "[100]\tvalid_0's rmse: 241.006\n",
      "[150]\tvalid_0's rmse: 231.23\n",
      "[200]\tvalid_0's rmse: 224.318\n",
      "[250]\tvalid_0's rmse: 218.168\n",
      "[300]\tvalid_0's rmse: 215.541\n",
      "[350]\tvalid_0's rmse: 214.435\n",
      "[400]\tvalid_0's rmse: 211.414\n",
      "[450]\tvalid_0's rmse: 208.212\n",
      "[500]\tvalid_0's rmse: 207.982\n",
      "[550]\tvalid_0's rmse: 207.621\n",
      "[600]\tvalid_0's rmse: 208.601\n",
      "Early stopping, best iteration is:\n",
      "[546]\tvalid_0's rmse: 207.6\n"
     ]
    },
    {
     "name": "stderr",
     "output_type": "stream",
     "text": [
      "2it [03:22, 102.24s/it]"
     ]
    },
    {
     "name": "stdout",
     "output_type": "stream",
     "text": [
      "rmsle:  0.4685412360408719\n",
      "idx_fold : 3\n",
      "train id limit 1633\n",
      "val id [1634 1635 1636 1637 1638 1639]\n",
      "id time to pred [1640 1641 1642 1643 1644 1645 1646 1647 1648 1649 1650 1651 1652 1653\n",
      " 1654 1655]\n",
      "date: 28/6/2017\n",
      "Training until validation scores don't improve for 100 rounds\n",
      "[50]\tvalid_0's rmse: 275.616\n",
      "[100]\tvalid_0's rmse: 260.194\n",
      "[150]\tvalid_0's rmse: 255.623\n",
      "[200]\tvalid_0's rmse: 246.629\n",
      "[250]\tvalid_0's rmse: 246.369\n",
      "[300]\tvalid_0's rmse: 246.688\n",
      "[350]\tvalid_0's rmse: 251.936\n",
      "[400]\tvalid_0's rmse: 245.618\n",
      "[450]\tvalid_0's rmse: 240.119\n",
      "[500]\tvalid_0's rmse: 240.161\n",
      "[550]\tvalid_0's rmse: 237.674\n",
      "[600]\tvalid_0's rmse: 245.968\n",
      "Early stopping, best iteration is:\n",
      "[532]\tvalid_0's rmse: 236.337\n"
     ]
    },
    {
     "name": "stderr",
     "output_type": "stream",
     "text": [
      "3it [05:13, 106.16s/it]"
     ]
    },
    {
     "name": "stdout",
     "output_type": "stream",
     "text": [
      "rmsle:  0.47410268720163806\n",
      "idx_fold : 22\n",
      "train id limit 1329\n",
      "val id [1330 1331 1332 1333 1334 1335]\n",
      "id time to pred [1336 1337 1338 1339 1340 1341 1342 1343 1344 1345 1346 1347 1348 1349\n",
      " 1350 1351]\n",
      "date: 28/8/2016\n",
      "Training until validation scores don't improve for 100 rounds\n",
      "[50]\tvalid_0's rmse: 152.024\n",
      "[100]\tvalid_0's rmse: 149.018\n",
      "[150]\tvalid_0's rmse: 146.544\n",
      "[200]\tvalid_0's rmse: 141.636\n",
      "[250]\tvalid_0's rmse: 140.178\n",
      "[300]\tvalid_0's rmse: 141.502\n",
      "[350]\tvalid_0's rmse: 139.637\n",
      "[400]\tvalid_0's rmse: 138.284\n",
      "[450]\tvalid_0's rmse: 137.98\n",
      "[500]\tvalid_0's rmse: 139.363\n",
      "Early stopping, best iteration is:\n",
      "[403]\tvalid_0's rmse: 137.716\n"
     ]
    },
    {
     "name": "stderr",
     "output_type": "stream",
     "text": [
      "4it [06:34, 96.26s/it] "
     ]
    },
    {
     "name": "stdout",
     "output_type": "stream",
     "text": [
      "rmsle:  0.77714863812039\n",
      "idx_fold : 45\n",
      "train id limit 961\n",
      "val id [962 963 964 965 966 967]\n",
      "id time to pred [968 969 970 971 972 973 974 975 976 977 978 979 980 981 982 983]\n",
      "date: 26/8/2015\n"
     ]
    }
   ],
   "source": [
    "study = optuna.create_study(direction=\"minimize\")\n",
    "study.optimize(objective, n_trials=25)\n",
    "\n",
    "print(\"Number of finished trials: {}\".format(len(study.trials)))\n",
    "\n",
    "print(\"Best trial:\")\n",
    "trial = study.best_trial\n",
    "\n",
    "print(\"  Value: {}\".format(trial.value))\n",
    "\n",
    "print(\"  Params: \")\n",
    "for key, value in trial.params.items():\n",
    "    print(\"    {}: {}\".format(key, value))"
   ]
  },
  {
   "cell_type": "code",
   "execution_count": null,
   "id": "7d261563-27fa-4556-a107-227625e4ede2",
   "metadata": {},
   "outputs": [],
   "source": [
    "1"
   ]
  },
  {
   "cell_type": "code",
   "execution_count": null,
   "id": "1ba20bb7-d4ef-437a-9edc-35a24c548f16",
   "metadata": {},
   "outputs": [],
   "source": [
    "print(\"  Value: {}\".format(trial.value))\n",
    "\n",
    "print(\"  Params: \")\n",
    "for key, value in trial.params.items():\n",
    "    print(\"    {}: {}\".format(key, value))"
   ]
  },
  {
   "cell_type": "code",
   "execution_count": null,
   "id": "257eeeb5-8565-4a43-b890-3b762abe14fe",
   "metadata": {},
   "outputs": [],
   "source": [
    "trial.report"
   ]
  },
  {
   "cell_type": "code",
   "execution_count": null,
   "id": "58c19e8b-9543-40ca-92ab-3a356efa1886",
   "metadata": {},
   "outputs": [],
   "source": [
    "optuna.visualization.plot_optimization_history(trial, target_name=\"Accuracy\")"
   ]
  },
  {
   "cell_type": "code",
   "execution_count": null,
   "id": "0cff4574-31a5-4dbf-a750-e94274464f66",
   "metadata": {},
   "outputs": [],
   "source": [
    "no-name-e8c5307e-bc31-4758-8944-a3a96836696d"
   ]
  },
  {
   "cell_type": "code",
   "execution_count": null,
   "id": "dc3f6ebe-9bd9-422c-8d16-5fca8f6e0fa7",
   "metadata": {},
   "outputs": [],
   "source": []
  },
  {
   "cell_type": "code",
   "execution_count": null,
   "id": "6b6056de-3831-411f-a090-ae8e81f8d783",
   "metadata": {},
   "outputs": [],
   "source": []
  },
  {
   "cell_type": "code",
   "execution_count": null,
   "id": "2894fd53-da57-4764-b58b-136834a71670",
   "metadata": {},
   "outputs": [],
   "source": [
    "def objective(trial):\n",
    "     \n",
    "    params = {\n",
    "        \"objective\": \"tweedie\",\n",
    "        #\"tweedie_variance_power\": trial.suggest_float(\"tweedie_variance_power\", 1.1, 1.6, step=0.1),\n",
    "        \"tweedie_variance_power\": trial.suggest_categorical(\"tweedie_variance_power\", [1.3, 1.4]),\n",
    "        \"n_estimators\": trial.suggest_categorical(\"n_estimators\", [2000]),\n",
    "        \"learning_rate\": trial.suggest_float(\"learning_rate\", 0.01, 0.3),\n",
    "        \"num_leaves\": trial.suggest_int(\"num_leaves\", 20, 3000, step=20),\n",
    "        \"max_depth\": trial.suggest_int(\"max_depth\", 3, 12),\n",
    "        \"min_data_in_leaf\": trial.suggest_int(\"min_data_in_leaf\", 200, 10000, step=100),\n",
    "        \"lambda_l1\": trial.suggest_int(\"lambda_l1\", 0, 100, step=5),\n",
    "        \"lambda_l2\": trial.suggest_int(\"lambda_l2\", 0, 100, step=5),\n",
    "        \"min_gain_to_split\": trial.suggest_float(\"min_gain_to_split\", 0, 15),\n",
    "        \"bagging_fraction\": trial.suggest_float(\n",
    "            \"bagging_fraction\", 0.2, 0.95, step=0.1\n",
    "        ),\n",
    "        \"bagging_freq\": trial.suggest_categorical(\"bagging_freq\", [1]),\n",
    "        \"feature_fraction\": trial.suggest_float(\n",
    "            \"feature_fraction\", 0.2, 0.95, step=0.1\n",
    "        ),\n",
    "        \"random_state\": 1990,\n",
    "        \"metric\": \"rmse\",\n",
    "        \"verbose\": -1\n",
    "    }\n",
    "    \n",
    "    list_wape = []\n",
    "    \n",
    "    for train_idx, test_idx in tqdm(GroupTimeSeriesSplit(n_splits=8).split(df_cv, groups=df_cv['time_idx'])):\n",
    "    \n",
    "        i_train = df_cv.loc[train_idx, 'time_idx'].unique()\n",
    "        df_train = df_cv.loc[df_cv['time_idx'].isin(i_train)].drop(columns=col_to_ignore)\n",
    "        i_test = df_cv.loc[test_idx, 'time_idx'].unique()[:16]\n",
    "        df_test = df_cv.loc[df_cv['time_idx'].isin(i_test)].drop(columns=col_to_ignore).drop(columns=TARGET_COL) \n",
    "\n",
    "        min_train_idx = df_test['time_idx'].min() - prediction_length\n",
    "        max_train_idx = df_test['time_idx'].max()\n",
    "        cutoff_idx = np.arange(min_train_idx, max_train_idx + 1, 1)\n",
    "        df_rec = df_cv.loc[df_cv['time_idx'].isin(cutoff_idx)]    \n",
    "\n",
    "        df_rec.loc[df_rec['time_idx'].isin(i_test), 'is_future'] = True\n",
    "        df_rec.loc[df_rec[\"is_future\"] == True, \"sales\"] = np.nan\n",
    "        \n",
    "        i_val = df_train.time_idx.max() - time_val\n",
    "\n",
    "        df_train_val = df_train.loc[df_train['time_idx'] <= i_val]\n",
    "        df_val = df_train.loc[df_train['time_idx'] > i_val]\n",
    "        \n",
    "        print('train id limit', i_val)\n",
    "        print('val id', df_val.time_idx.unique())\n",
    "        print('id time to pred', i_test)\n",
    "        day, month, year = df_val.iloc[-1]['day'], df_val.iloc[-1]['month'], df_val.iloc[-1]['year']\n",
    "        print(f'date: {day}/{month}/{year}')\n",
    "        \n",
    "        train_ds = lgb.Dataset(\n",
    "        data=df_train_val.drop(columns=TARGET_COL), \n",
    "        label=df_train_val[TARGET_COL]\n",
    "        )\n",
    "        \n",
    "        val_ds = lgb.Dataset(\n",
    "        data=df_val.drop(columns=TARGET_COL), \n",
    "        label=df_val[TARGET_COL]\n",
    "        )\n",
    "\n",
    "        gbm = lgb.train(\n",
    "        params=params,\n",
    "        train_set=train_ds,\n",
    "        valid_sets=val_ds,\n",
    "        callbacks=[log_evaluation(period=50), early_stopping(100)]\n",
    "        )\n",
    "\n",
    "        first_future_time_idx = i_test.min()\n",
    "        df_rec.loc[:, \"forecast_step\"] = df_rec.loc[:, \"time_idx\"] - first_future_time_idx + 1 \n",
    "\n",
    "        for fs in range(1, prediction_length + 1):\n",
    "\n",
    "            # predict one step\n",
    "            df_predict = df_rec.loc[df_rec[\"forecast_step\"] == fs].drop(columns=col_to_ignore + [TARGET_COL])\n",
    "            predictions = np.clip(gbm.predict(df_predict), a_min=0, a_max=None)\n",
    "\n",
    "            # update sales_quantity usings predictions\n",
    "            df_rec.loc[df_rec[\"forecast_step\"] == fs, \"sales\"] = predictions\n",
    "\n",
    "            # update target lags & rollings\n",
    "            calculate_lags(df_rec, TARGET_COL, lags_target)\n",
    "            calculate_rollings(df_rec, TARGET_COL, rollings_target)\n",
    "\n",
    "        df_forecast = df_rec.loc[df_rec[\"is_future\"] == True, [\"ts_id\", \"date\", \"sales\"]]\n",
    "        df_forecast[\"forecast\"] = df_forecast[\"sales\"].round(0).astype(np.float16)\n",
    "        df_forecast.drop(columns=\"sales\", inplace=True)\n",
    "\n",
    "        df_error = pd.merge(df_forecast, clean[['ts_id', 'date', 'sales']], how=\"left\", on=['ts_id', 'date'])\n",
    "        wape = np.round(np.sum(np.abs(df_error[\"sales\"] - df_error[\"forecast\"])) / np.sum(df_error[\"sales\"]), 3)\n",
    "        print('wape: ', wape)\n",
    "        list_wape.append(wape)\n",
    "    \n",
    "    mean_wape = np.mean(list_wape)\n",
    "    \n",
    "    return mean_wape"
   ]
  },
  {
   "cell_type": "code",
   "execution_count": null,
   "id": "6a2ed147-e73d-4cf4-8464-e3d59c58d38e",
   "metadata": {},
   "outputs": [],
   "source": [
    "study = optuna.create_study(direction=\"minimize\")\n",
    "study.optimize(objective, n_trials=50)\n",
    "\n",
    "print(\"Number of finished trials: {}\".format(len(study.trials)))\n",
    "\n",
    "print(\"Best trial:\")\n",
    "trial = study.best_trial\n",
    "\n",
    "print(\"  Value: {}\".format(trial.value))\n",
    "\n",
    "print(\"  Params: \")\n",
    "for key, value in trial.params.items():\n",
    "    print(\"    {}: {}\".format(key, value))"
   ]
  },
  {
   "cell_type": "code",
   "execution_count": null,
   "id": "79bafebb-6da7-486f-8940-95a3f2a5fca3",
   "metadata": {},
   "outputs": [],
   "source": [
    "print(\"  Value: {}\".format(trial.value))\n",
    "\n",
    "print(\"  Params: \")\n",
    "for key, value in trial.params.items():\n",
    "    print(\"    {}: {}\".format(key, value))"
   ]
  },
  {
   "cell_type": "code",
   "execution_count": null,
   "id": "5a8ef9f9-8916-494c-b056-f688a1e2b32a",
   "metadata": {},
   "outputs": [],
   "source": [
    "trial.number"
   ]
  },
  {
   "cell_type": "code",
   "execution_count": null,
   "id": "46db855f-2584-4f05-ac5f-14af1ca2b9b9",
   "metadata": {},
   "outputs": [],
   "source": [
    "Value: 0.1476\n",
    "  Params: \n",
    "    tweedie_variance_power: 1.3\n",
    "    n_estimators: 2000\n",
    "    learning_rate: 0.08064028714756555\n",
    "    num_leaves: 2140\n",
    "    max_depth: 12\n",
    "    min_data_in_leaf: 200\n",
    "    lambda_l1: 10\n",
    "    lambda_l2: 55\n",
    "    min_gain_to_split: 7.674179670757204\n",
    "    bagging_fraction: 0.7\n",
    "    bagging_freq: 1\n",
    "    feature_fraction: 0.9"
   ]
  },
  {
   "cell_type": "code",
   "execution_count": null,
   "id": "dbccf2a6-04f5-4306-beec-75a024669f90",
   "metadata": {},
   "outputs": [],
   "source": [
    " Trial 0 finished with value: 0.14940000000000003 and parameters: \n",
    "\n",
    "{\n",
    "    'tweedie_variance_power': 1.4000000000000001,\n",
    "    'n_estimators': 500,\n",
    "    'learning_rate': 0.067307721852165,\n",
    "    'num_leaves': 300,\n",
    "    'max_depth': 10,\n",
    "    'min_data_in_leaf': 1300,\n",
    "    'lambda_l1': 100,\n",
    "    'lambda_l2': 80,\n",
    "    'min_gain_to_split': 9.72024574054834,\n",
    "    'bagging_fraction': 0.8,\n",
    "    'bagging_freq': 1,\n",
    "    'feature_fraction': 0.6000000000000001\n",
    "}\n",
    "\n",
    ". Best is trial 0 with value: 0.14940000000000003."
   ]
  },
  {
   "cell_type": "code",
   "execution_count": null,
   "id": "a59331a0-a8c2-4d8d-8db1-4980ecaa23d8",
   "metadata": {},
   "outputs": [],
   "source": [
    "Trial 7 finished with value: 0.156 and parameters: {'tweedie_variance_power': 1.3, 'n_estimators': 500, 'learning_rate': 0.047505552909073004, 'num_leaves': 2780, 'max_depth': 9, 'min_data_in_leaf': 4400, 'lambda_l1': 65, 'lambda_l2': 40, 'min_gain_to_split': 9.020620157726453, 'bagging_fraction': 0.9, 'bagging_freq': 1, 'feature_fraction': 0.9}. Best is trial 7 with value: 0.156."
   ]
  },
  {
   "cell_type": "code",
   "execution_count": null,
   "id": "86ee3074-f058-4207-b115-d42d2432b657",
   "metadata": {},
   "outputs": [],
   "source": [
    "Trial 0 finished with value: 0.15299999999999997 and parameters: {'tweedie_variance_power': 1.4000000000000001, 'n_estimators': 500, 'learning_rate': 0.06908883769088184, 'num_leaves': 600, 'max_depth': 10, 'min_data_in_leaf': 400, 'lambda_l1': 5, 'lambda_l2': 50, 'min_gain_to_split': 3.4052603539384463, 'bagging_fraction': 0.5, 'bagging_freq': 1, 'feature_fraction': 0.30000000000000004}. Best is trial 0 with value: 0.15299999999999997."
   ]
  },
  {
   "cell_type": "code",
   "execution_count": null,
   "id": "30a0a4e3-87dd-45ba-bb6a-9fad24ac9224",
   "metadata": {},
   "outputs": [],
   "source": []
  },
  {
   "cell_type": "code",
   "execution_count": null,
   "id": "fb294ac6-0e80-4a6b-a986-b4f415926061",
   "metadata": {},
   "outputs": [],
   "source": []
  },
  {
   "cell_type": "code",
   "execution_count": null,
   "id": "1a149af3-d7c7-41bf-8561-5085ad1e17c9",
   "metadata": {},
   "outputs": [],
   "source": [
    "df_cutoff[df_cutoff['ts_id'] == '9_28'].sort_values('date', ascending=False).head(20)"
   ]
  },
  {
   "cell_type": "code",
   "execution_count": null,
   "id": "6eb2ff08-ee85-4346-85ed-f291896cde0d",
   "metadata": {},
   "outputs": [],
   "source": []
  },
  {
   "cell_type": "code",
   "execution_count": null,
   "id": "77c2e5f6-6743-4dc1-b7fc-52c18cb2e663",
   "metadata": {},
   "outputs": [],
   "source": [
    "prediction_length = 8\n",
    "lags_target=list(range(1, 16))\n",
    "rollings_target=[2, 4, 8, 16]"
   ]
  },
  {
   "cell_type": "code",
   "execution_count": null,
   "id": "78246d89-59ce-4994-9148-39ace73836d5",
   "metadata": {},
   "outputs": [],
   "source": [
    "def objective(trial):\n",
    "\n",
    "    def calculate_lags(df, col, lags, shift=0):\n",
    "        for l in lags:\n",
    "            df[f\"lag_{col}_{l}\"] = df.groupby([\"ts_id\"])[col].shift(shift + l).astype(np.float16)\n",
    "\n",
    "    def calculate_rollings(df, col, rollings, shift=0):\n",
    "        for r in rollings:\n",
    "            df[f\"rol_mean_{col}_{r}\"] = df.groupby([\"ts_id\"])[col].shift(shift + 1).rolling(r, min_periods=1).mean()\n",
    "            df[f\"rol_std_{col}_{r}\"] = df.groupby([\"ts_id\"])[col].shift(shift + 1).rolling(r, min_periods=1).std()\n",
    "            df[f\"rol_min_{col}_{r}\"] = df.groupby([\"ts_id\"])[col].shift(shift + 1).rolling(r, min_periods=1).min()\n",
    "            df[f\"rol_max_{col}_{r}\"] = df.groupby([\"ts_id\"])[col].shift(shift + 1).rolling(r, min_periods=1).max()\n",
    "\n",
    "\n",
    "    params = {\n",
    "        \"boosting_type\": \"gbdt\", \n",
    "        \"num_leaves\": trial.suggest_int(\"num_leaves\", 4, 10),\n",
    "        \"max_depth\": -1, \n",
    "        \"learning_rate\": trial.suggest_loguniform(\"learning_rate\", 1e-3, 1), \n",
    "        \"n_estimators\": 500, #100\n",
    "        \"subsample_for_bin\": 200000, \n",
    "        \"objective\": trial.suggest_categorical(\"objective\", [\"regression\", \"tweedie\"]),\n",
    "        \"class_weight\": None, \n",
    "        \"min_split_gain\": 0.0,\n",
    "        \"min_child_weight\": 0.001, \n",
    "        \"min_child_samples\": trial.suggest_int(\"min_child_samples\", 10, 100, step=10),\n",
    "        \"subsample\": trial.suggest_float(\"subsample\", 0.1, 1.0, step=0.1),\n",
    "        \"colsample_bytree\": trial.suggest_float(\"colsample_bytree\", 0.4, 1.0, step=0.1),\n",
    "        \"reg_alpha\": trial.suggest_float(\"reg_alpha\", 0, 1.0, step=0.1),\n",
    "        \"reg_lambda\": trial.suggest_float(\"reg_lambda\", 0, 1.0, step=0.1),\n",
    "        \"random_state\": 666,\n",
    "        \"metric\": \"rmse\"\n",
    "    }\n",
    "    \n",
    "    params[\"num_leaves\"] = 2**params[\"num_leaves\"]-1\n",
    "    \n",
    "    if params[\"objective\"] == \"tweedie\":\n",
    "        params[\"tweedie_variance_power\"] = trial.suggest_float(\"tweedie_variance_power\", 1.0, 1.9, step=0.1)\n",
    "    \n",
    "    if params[\"subsample\"] < 1.0:\n",
    "        params[\"subsample_freq\"] = trial.suggest_int(\"subsample_freq\", 1, 7)\n",
    "    \n",
    "\n",
    "\n",
    "    train_ds = lgb.Dataset(\n",
    "        data=df_train.drop(columns=TARGET_COL), \n",
    "        label=df_train[TARGET_COL]\n",
    "    )\n",
    "\n",
    "    print(\"Fit\")\n",
    "    gbm = lgb.train(\n",
    "        params=params,\n",
    "        train_set=train_ds,\n",
    "        valid_sets=train_ds\n",
    "        )\n",
    "\n",
    "    df_cutoff.loc[df_cutoff[\"is_future\"] == True, \"sales\"] = np.nan\n",
    "\n",
    "    for fs in range(1, prediction_length + 1):\n",
    "        print(fs)\n",
    "\n",
    "        # predict one step\n",
    "        df_predict = df_cutoff.loc[df_cutoff[\"forecast_step\"] == fs].drop(columns=col_to_ignore + [TARGET_COL])\n",
    "        predictions = np.clip(gbm.predict(df_predict), a_min=0, a_max=None)\n",
    "\n",
    "        # update sales_quantity usings predictions\n",
    "        df_cutoff.loc[df_cutoff[\"forecast_step\"] == fs, \"sales\"] = predictions\n",
    "\n",
    "        # update target lags & rollings\n",
    "        calculate_lags(df_cutoff, TARGET_COL, lags_target)\n",
    "        calculate_rollings(df_cutoff, TARGET_COL, rollings_target)\n",
    "    \n",
    "    print(\"Format\")\n",
    "    df_forecast = df_cutoff.loc[df_cutoff[\"is_future\"] == True, [\"ts_id\", \"date\", \"sales\"]]\n",
    "    df_forecast[\"forecast\"] = df_forecast[\"sales\"].round(0).astype(np.float16)\n",
    "    df_forecast.drop(columns=\"sales\", inplace=True)\n",
    "    print(\"Log metrics\")\n",
    "    df_error = pd.merge(df_forecast, clean[['ts_id', 'date', 'sales']], how=\"left\", on=['ts_id', 'date'])\n",
    "    wape = np.round(np.sum(np.abs(df_error[\"sales\"] - df_error[\"forecast\"])) / np.sum(df_error[\"sales\"]), 4)\n",
    "    \n",
    "    return wape"
   ]
  },
  {
   "cell_type": "code",
   "execution_count": null,
   "id": "09b37793-9a86-4544-bdd8-12ffaf0ead20",
   "metadata": {},
   "outputs": [],
   "source": [
    "study = optuna.create_study(direction=\"minimize\")\n",
    "study.optimize(objective, n_trials=20)\n",
    "\n",
    "print(\"Number of finished trials: {}\".format(len(study.trials)))\n",
    "\n",
    "print(\"Best trial:\")\n",
    "trial = study.best_trial\n",
    "\n",
    "print(\"  Value: {}\".format(trial.value))\n",
    "\n",
    "print(\"  Params: \")\n",
    "for key, value in trial.params.items():\n",
    "    print(\"    {}: {}\".format(key, value))"
   ]
  },
  {
   "cell_type": "code",
   "execution_count": null,
   "id": "11999366-f4e8-456c-b84a-7035e98e605b",
   "metadata": {},
   "outputs": [],
   "source": [
    "trial.datetime_complete"
   ]
  },
  {
   "cell_type": "code",
   "execution_count": null,
   "id": "ef55e303-3371-4d4d-adef-6cd8c7fc4d59",
   "metadata": {},
   "outputs": [],
   "source": []
  }
 ],
 "metadata": {
  "kernelspec": {
   "display_name": "forecast",
   "language": "python",
   "name": "forecast"
  },
  "language_info": {
   "codemirror_mode": {
    "name": "ipython",
    "version": 3
   },
   "file_extension": ".py",
   "mimetype": "text/x-python",
   "name": "python",
   "nbconvert_exporter": "python",
   "pygments_lexer": "ipython3",
   "version": "3.8.13"
  }
 },
 "nbformat": 4,
 "nbformat_minor": 5
}
