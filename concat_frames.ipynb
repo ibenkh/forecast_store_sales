{
 "cells": [
  {
   "cell_type": "code",
   "execution_count": null,
   "id": "68801cb8-39bf-4375-9d73-7669758ad1a6",
   "metadata": {},
   "outputs": [],
   "source": [
    "# to do\n",
    "\n",
    "\\ lire tous les dfs & concat le tt\n",
    "\\ lister cutoff, couper data, train, val, test \n",
    "\\ "
   ]
  },
  {
   "cell_type": "code",
   "execution_count": 29,
   "id": "27cc327a-fe37-4765-92d7-f3d37a18ff2d",
   "metadata": {},
   "outputs": [],
   "source": [
    "import pandas as pd\n",
    "import numpy as np"
   ]
  },
  {
   "cell_type": "code",
   "execution_count": 30,
   "id": "ef0c65e1-dfb6-4343-b308-82da5179a708",
   "metadata": {},
   "outputs": [],
   "source": [
    "list_cutoff = ['2017-08-16', '2017-07-31', '2017-07-15', '2017-06-29', '2017-06-13']"
   ]
  },
  {
   "cell_type": "code",
   "execution_count": 31,
   "id": "80da331e-5479-4414-a912-ac42a8d91ff5",
   "metadata": {},
   "outputs": [],
   "source": [
    "path = '/Users/idris/Documents/ds_project/forecast_store_sales_kaggle/data/'\n",
    "\n",
    "cutoff = '2017-08-16'"
   ]
  },
  {
   "cell_type": "code",
   "execution_count": 32,
   "id": "543d3e71-2235-4d52-811a-d1db273ccb0e",
   "metadata": {},
   "outputs": [],
   "source": [
    "df_sales_cutoff = pd.read_csv(path + 'fe/cutoff/{}/sales_cutoff.csv'.format(cutoff), sep=';')\n",
    "df_enc = pd.read_csv(path + 'fe/cutoff/{}/encoding_agg.csv'.format(cutoff), sep=';').drop(['id', 'bu', 'famid'], axis=1)\n",
    "df_lag = pd.read_csv(path + 'fe/cutoff/{}/lag_recurisve.csv'.format(cutoff), sep=';').drop('sales', axis=1)\n",
    "df_rol = pd.read_csv(path + 'fe/cutoff/{}/rol_recurisve.csv'.format(cutoff), sep=';').drop('sales', axis=1)\n",
    "df_date_hol_oil = pd.read_csv(path + 'fe/date_holidays_oil.csv', sep=';')\n",
    "df_store_details = pd.read_csv(path + 'fe/stores_details_transactions.csv', sep=';')\n",
    "\n",
    "df_sales_cutoff['date'] = pd.to_datetime(df_sales_cutoff['date'])\n",
    "df_enc['date'] = pd.to_datetime(df_enc['date'])\n",
    "df_lag['date'] = pd.to_datetime(df_lag['date'])\n",
    "df_rol['date'] = pd.to_datetime(df_rol['date'])\n",
    "df_date_hol_oil['date'] = pd.to_datetime(df_date_hol_oil['date'])\n",
    "df_store_details['date'] = pd.to_datetime(df_store_details['date'])\n",
    "\n",
    "assert df_sales_cutoff.groupby(['date', 'ts_id']).size().max() == 1\n",
    "assert df_enc.groupby(['date', 'ts_id']).size().max() == 1\n",
    "assert df_lag.groupby(['date', 'ts_id']).size().max() == 1\n",
    "assert df_rol.groupby(['date', 'ts_id']).size().max() == 1\n",
    "assert df_date_hol_oil.groupby(['date']).size().max() == 1\n",
    "assert df_store_details.groupby(['date', 'bu']).size().max() == 1"
   ]
  },
  {
   "cell_type": "code",
   "execution_count": 33,
   "id": "5f7bb877-b7be-46c8-ad3f-d6a7cd39b49a",
   "metadata": {},
   "outputs": [
    {
     "data": {
      "text/plain": [
       "((2479012, 7), (2479012, 47))"
      ]
     },
     "execution_count": 33,
     "metadata": {},
     "output_type": "execute_result"
    }
   ],
   "source": [
    "df_sales_cutoff.shape, df_enc.shape"
   ]
  },
  {
   "cell_type": "code",
   "execution_count": 34,
   "id": "4c26826b-778b-40e3-a25d-19826401a332",
   "metadata": {},
   "outputs": [],
   "source": [
    "df_w = pd.merge(df_sales_cutoff, df_enc, how='left', on=['date', 'ts_id'])\n",
    "assert df_w.shape[0] == df_sales_cutoff.shape[0]\n",
    "assert df_w.groupby(['date', 'ts_id']).size().max() == 1"
   ]
  },
  {
   "cell_type": "code",
   "execution_count": 36,
   "id": "f9b7bfec-aa03-4a57-a106-867ef26db40f",
   "metadata": {},
   "outputs": [],
   "source": [
    "df_ww = pd.merge(df_w, df_lag, how='left', on=['date', 'ts_id'])\n",
    "assert df_ww.shape[0] == df_w.shape[0]\n",
    "assert df_ww.groupby(['date', 'ts_id']).size().max() == 1"
   ]
  },
  {
   "cell_type": "code",
   "execution_count": 37,
   "id": "a857e5c6-ef62-4c33-adee-1fc3902658e2",
   "metadata": {},
   "outputs": [],
   "source": [
    "df_www = pd.merge(df_ww, df_rol, how='left', on=['date', 'ts_id'])\n",
    "assert df_www.shape[0] == df_ww.shape[0]\n",
    "assert df_www.groupby(['date', 'ts_id']).size().max() == 1"
   ]
  },
  {
   "cell_type": "code",
   "execution_count": 38,
   "id": "fc748910-88ea-4e6a-afeb-123ee704ed9d",
   "metadata": {},
   "outputs": [],
   "source": [
    "df_wwww = pd.merge(df_www, df_date_hol_oil, how='left', on=['date'])\n",
    "assert df_wwww.shape[0] == df_www.shape[0]\n",
    "assert df_wwww.groupby(['date', 'ts_id']).size().max() == 1"
   ]
  },
  {
   "cell_type": "code",
   "execution_count": 39,
   "id": "49af4a2c-046d-441e-8715-80bd9cd0297a",
   "metadata": {},
   "outputs": [],
   "source": [
    "df_wwwww = pd.merge(df_wwww, df_store_details, how='left', on=['date', 'bu'])\n",
    "assert df_wwwww.shape[0] == df_wwww.shape[0]\n",
    "assert df_wwwww.groupby(['date', 'ts_id']).size().max() == 1"
   ]
  },
  {
   "cell_type": "code",
   "execution_count": 40,
   "id": "bd564efc-2d38-4795-ac96-0c6d22132e1d",
   "metadata": {},
   "outputs": [
    {
     "data": {
      "text/plain": [
       "Index(['ts_id', 'date', 'id', 'bu', 'famid', 'sales', 'onprom',\n",
       "       'enc_stateid_mean', 'enc_stateid_std', 'enc_stateid_min',\n",
       "       ...\n",
       "       'hol_before_2', 'hol_before_3', 'hol_after_1', 'prixoil',\n",
       "       'transactions', 'isclosed', 'typeid', 'cityid', 'stateid', 'cluster'],\n",
       "      dtype='object', length=103)"
      ]
     },
     "execution_count": 40,
     "metadata": {},
     "output_type": "execute_result"
    }
   ],
   "source": [
    "df_wwwww.columns"
   ]
  },
  {
   "cell_type": "code",
   "execution_count": 41,
   "id": "b5ce4744-3b14-48ae-9d2d-cd3dd589b9f9",
   "metadata": {},
   "outputs": [
    {
     "data": {
      "text/plain": [
       "(2479012, 103)"
      ]
     },
     "execution_count": 41,
     "metadata": {},
     "output_type": "execute_result"
    }
   ],
   "source": [
    "df_wwwww.shape"
   ]
  },
  {
   "cell_type": "code",
   "execution_count": 42,
   "id": "260a4235-d540-471b-90f4-a0dd255907b7",
   "metadata": {},
   "outputs": [],
   "source": [
    "df_wwwww.to_csv('data/fe/cutoff/{}/final_frame.csv'.format(cutoff), index=False, sep=';')"
   ]
  },
  {
   "cell_type": "code",
   "execution_count": null,
   "id": "9278e9cb-d1ea-4462-9111-13f93f840795",
   "metadata": {},
   "outputs": [],
   "source": []
  }
 ],
 "metadata": {
  "kernelspec": {
   "display_name": "forecast",
   "language": "python",
   "name": "forecast"
  },
  "language_info": {
   "codemirror_mode": {
    "name": "ipython",
    "version": 3
   },
   "file_extension": ".py",
   "mimetype": "text/x-python",
   "name": "python",
   "nbconvert_exporter": "python",
   "pygments_lexer": "ipython3",
   "version": "3.8.13"
  }
 },
 "nbformat": 4,
 "nbformat_minor": 5
}
