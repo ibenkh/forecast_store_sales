{
 "cells": [
  {
   "cell_type": "code",
   "execution_count": null,
   "id": "68801cb8-39bf-4375-9d73-7669758ad1a6",
   "metadata": {},
   "outputs": [],
   "source": [
    "# to do\n",
    "\n",
    "\\ lire tous les dfs & concat le tt\n",
    "\\ lister cutoff, couper data, train, val, test \n",
    "\\ "
   ]
  },
  {
   "cell_type": "code",
   "execution_count": 1,
   "id": "27cc327a-fe37-4765-92d7-f3d37a18ff2d",
   "metadata": {},
   "outputs": [],
   "source": [
    "import pandas as pd\n",
    "import numpy as np"
   ]
  },
  {
   "cell_type": "code",
   "execution_count": 2,
   "id": "ef0c65e1-dfb6-4343-b308-82da5179a708",
   "metadata": {},
   "outputs": [],
   "source": [
    "# list_cutoff = ['2017-08-16', '2017-07-31', '2017-07-15', '2017-06-29', '2017-06-13']\n",
    "\n",
    "list_cutoff = ['2017-08-16']"
   ]
  },
  {
   "cell_type": "code",
   "execution_count": 22,
   "id": "80da331e-5479-4414-a912-ac42a8d91ff5",
   "metadata": {},
   "outputs": [],
   "source": [
    "path = '/Users/idris/Documents/ds_project/forecast_store_sales/data/'\n",
    "\n",
    "cutoff = '2017-07-31'"
   ]
  },
  {
   "cell_type": "code",
   "execution_count": 23,
   "id": "543d3e71-2235-4d52-811a-d1db273ccb0e",
   "metadata": {},
   "outputs": [],
   "source": [
    "df_sales_cutoff = pd.read_csv(path + f'fe/cutoff/{cutoff}/sales_cutoff.csv', sep=';').drop(['id'], axis=1)\n",
    "#df_enc = pd.read_csv(path + 'fe/cutoff/{}/encoding_agg.csv'.format(cutoff), sep=';').drop(['id', 'bu', 'famid'], axis=1)\n",
    "#df_lag = pd.read_csv(path + 'fe/cutoff/{}/lag_recurisve.csv'.format(cutoff), sep=';').drop('sales', axis=1)\n",
    "#df_rol = pd.read_csv(path + 'fe/cutoff/{}/rol_recurisve.csv'.format(cutoff), sep=';').drop('sales', axis=1)\n",
    "df_features = pd.read_csv(path + f'fe/cutoff/{cutoff}/df_festures.csv', sep=';').drop('sales', axis=1)\n",
    "\n",
    "df_date_hol_oil = pd.read_csv(path + 'fe/date_holidays_oil.csv', sep=';')\n",
    "df_store_details = pd.read_csv(path + 'fe/stores_details_transactions.csv', sep=';')\n",
    "\n",
    "df_sales_cutoff['date'] = pd.to_datetime(df_sales_cutoff['date'])\n",
    "df_features['date'] = pd.to_datetime(df_features['date'])\n",
    "df_date_hol_oil['date'] = pd.to_datetime(df_date_hol_oil['date'])\n",
    "df_store_details['date'] = pd.to_datetime(df_store_details['date'])\n",
    "\n",
    "assert df_sales_cutoff.groupby(['date', 'ts_id']).size().max() == 1\n",
    "assert df_features.groupby(['date', 'ts_id']).size().max() == 1\n",
    "assert df_date_hol_oil.groupby(['date']).size().max() == 1\n",
    "assert df_store_details.groupby(['date', 'bu']).size().max() == 1"
   ]
  },
  {
   "cell_type": "code",
   "execution_count": 24,
   "id": "3e959824-8f92-4ce3-b296-b972702cdeaf",
   "metadata": {},
   "outputs": [
    {
     "data": {
      "text/plain": [
       "1729"
      ]
     },
     "execution_count": 24,
     "metadata": {},
     "output_type": "execute_result"
    }
   ],
   "source": [
    "df_sales_cutoff.ts_id.nunique()"
   ]
  },
  {
   "cell_type": "code",
   "execution_count": 25,
   "id": "5f7bb877-b7be-46c8-ad3f-d6a7cd39b49a",
   "metadata": {},
   "outputs": [
    {
     "data": {
      "text/plain": [
       "((2450500, 6), (2272527, 154))"
      ]
     },
     "execution_count": 25,
     "metadata": {},
     "output_type": "execute_result"
    }
   ],
   "source": [
    "df_sales_cutoff.shape, df_features.shape"
   ]
  },
  {
   "cell_type": "code",
   "execution_count": null,
   "id": "c29d1bc1-8e94-440a-b4ac-c0e712600576",
   "metadata": {},
   "outputs": [],
   "source": []
  },
  {
   "cell_type": "code",
   "execution_count": 26,
   "id": "c15748a6-8de7-437f-9143-75a6aee70d7a",
   "metadata": {},
   "outputs": [
    {
     "data": {
      "text/plain": [
       "(1729, 1729)"
      ]
     },
     "execution_count": 26,
     "metadata": {},
     "output_type": "execute_result"
    }
   ],
   "source": [
    "df_sales_cutoff.ts_id.nunique(), df_features.ts_id.nunique()"
   ]
  },
  {
   "cell_type": "code",
   "execution_count": null,
   "id": "0f34a391-c98d-4596-9d06-2c0551870637",
   "metadata": {},
   "outputs": [],
   "source": []
  },
  {
   "cell_type": "code",
   "execution_count": 27,
   "id": "4c26826b-778b-40e3-a25d-19826401a332",
   "metadata": {},
   "outputs": [],
   "source": [
    "df_w = pd.merge(df_sales_cutoff, df_features, how='left', on=['date', 'ts_id'])\n",
    "assert df_w.shape[0] == df_sales_cutoff.shape[0]\n",
    "assert df_w.groupby(['date', 'ts_id']).size().max() == 1"
   ]
  },
  {
   "cell_type": "code",
   "execution_count": 28,
   "id": "fc748910-88ea-4e6a-afeb-123ee704ed9d",
   "metadata": {},
   "outputs": [],
   "source": [
    "df_ww = pd.merge(df_w, df_date_hol_oil, how='left', on=['date'])\n",
    "assert df_ww.shape[0] == df_w.shape[0]\n",
    "assert df_ww.groupby(['date', 'ts_id']).size().max() == 1"
   ]
  },
  {
   "cell_type": "code",
   "execution_count": 29,
   "id": "49af4a2c-046d-441e-8715-80bd9cd0297a",
   "metadata": {},
   "outputs": [],
   "source": [
    "df_www = pd.merge(df_ww, df_store_details, how='left', on=['date', 'bu'])\n",
    "assert df_www.shape[0] == df_ww.shape[0]\n",
    "assert df_www.groupby(['date', 'ts_id']).size().max() == 1"
   ]
  },
  {
   "cell_type": "code",
   "execution_count": 30,
   "id": "bd564efc-2d38-4795-ac96-0c6d22132e1d",
   "metadata": {},
   "outputs": [
    {
     "data": {
      "text/plain": [
       "Index(['ts_id', 'date', 'bu', 'famid', 'sales', 'onprom', 'lag_sales_1',\n",
       "       'lag_sales_2', 'lag_sales_3', 'lag_sales_4',\n",
       "       ...\n",
       "       'hol_before_2', 'hol_before_3', 'hol_after_1', 'prixoil',\n",
       "       'transactions', 'isclosed', 'typeid', 'cityid', 'stateid', 'cluster'],\n",
       "      dtype='object', length=180)"
      ]
     },
     "execution_count": 30,
     "metadata": {},
     "output_type": "execute_result"
    }
   ],
   "source": [
    "df_www.columns"
   ]
  },
  {
   "cell_type": "code",
   "execution_count": 31,
   "id": "b5ce4744-3b14-48ae-9d2d-cd3dd589b9f9",
   "metadata": {},
   "outputs": [
    {
     "data": {
      "text/plain": [
       "((2450500, 180), 1729)"
      ]
     },
     "execution_count": 31,
     "metadata": {},
     "output_type": "execute_result"
    }
   ],
   "source": [
    "df_www.shape, df_features.ts_id.nunique()"
   ]
  },
  {
   "cell_type": "code",
   "execution_count": 32,
   "id": "260a4235-d540-471b-90f4-a0dd255907b7",
   "metadata": {},
   "outputs": [],
   "source": [
    "df_www.to_csv('data/fe/cutoff/{}/final_frame.csv'.format(cutoff), index=False, sep=';')"
   ]
  },
  {
   "cell_type": "code",
   "execution_count": 33,
   "id": "9278e9cb-d1ea-4462-9111-13f93f840795",
   "metadata": {},
   "outputs": [
    {
     "data": {
      "text/html": [
       "<div>\n",
       "<style scoped>\n",
       "    .dataframe tbody tr th:only-of-type {\n",
       "        vertical-align: middle;\n",
       "    }\n",
       "\n",
       "    .dataframe tbody tr th {\n",
       "        vertical-align: top;\n",
       "    }\n",
       "\n",
       "    .dataframe thead th {\n",
       "        text-align: right;\n",
       "    }\n",
       "</style>\n",
       "<table border=\"1\" class=\"dataframe\">\n",
       "  <thead>\n",
       "    <tr style=\"text-align: right;\">\n",
       "      <th></th>\n",
       "      <th>ts_id</th>\n",
       "      <th>date</th>\n",
       "      <th>bu</th>\n",
       "      <th>famid</th>\n",
       "      <th>sales</th>\n",
       "      <th>onprom</th>\n",
       "      <th>lag_sales_1</th>\n",
       "      <th>lag_sales_2</th>\n",
       "      <th>lag_sales_3</th>\n",
       "      <th>lag_sales_4</th>\n",
       "      <th>...</th>\n",
       "      <th>hol_before_2</th>\n",
       "      <th>hol_before_3</th>\n",
       "      <th>hol_after_1</th>\n",
       "      <th>prixoil</th>\n",
       "      <th>transactions</th>\n",
       "      <th>isclosed</th>\n",
       "      <th>typeid</th>\n",
       "      <th>cityid</th>\n",
       "      <th>stateid</th>\n",
       "      <th>cluster</th>\n",
       "    </tr>\n",
       "  </thead>\n",
       "  <tbody>\n",
       "    <tr>\n",
       "      <th>0</th>\n",
       "      <td>1_0</td>\n",
       "      <td>2013-01-02</td>\n",
       "      <td>1</td>\n",
       "      <td>0</td>\n",
       "      <td>2.0</td>\n",
       "      <td>0</td>\n",
       "      <td>NaN</td>\n",
       "      <td>NaN</td>\n",
       "      <td>NaN</td>\n",
       "      <td>NaN</td>\n",
       "      <td>...</td>\n",
       "      <td>0</td>\n",
       "      <td>0</td>\n",
       "      <td>0</td>\n",
       "      <td>93.14</td>\n",
       "      <td>2111.0</td>\n",
       "      <td>0</td>\n",
       "      <td>0</td>\n",
       "      <td>0</td>\n",
       "      <td>0</td>\n",
       "      <td>13</td>\n",
       "    </tr>\n",
       "    <tr>\n",
       "      <th>1</th>\n",
       "      <td>1_0</td>\n",
       "      <td>2013-01-03</td>\n",
       "      <td>1</td>\n",
       "      <td>0</td>\n",
       "      <td>3.0</td>\n",
       "      <td>0</td>\n",
       "      <td>NaN</td>\n",
       "      <td>NaN</td>\n",
       "      <td>NaN</td>\n",
       "      <td>NaN</td>\n",
       "      <td>...</td>\n",
       "      <td>0</td>\n",
       "      <td>0</td>\n",
       "      <td>0</td>\n",
       "      <td>92.97</td>\n",
       "      <td>1833.0</td>\n",
       "      <td>0</td>\n",
       "      <td>0</td>\n",
       "      <td>0</td>\n",
       "      <td>0</td>\n",
       "      <td>13</td>\n",
       "    </tr>\n",
       "    <tr>\n",
       "      <th>2</th>\n",
       "      <td>1_0</td>\n",
       "      <td>2013-01-04</td>\n",
       "      <td>1</td>\n",
       "      <td>0</td>\n",
       "      <td>3.0</td>\n",
       "      <td>0</td>\n",
       "      <td>NaN</td>\n",
       "      <td>NaN</td>\n",
       "      <td>NaN</td>\n",
       "      <td>NaN</td>\n",
       "      <td>...</td>\n",
       "      <td>0</td>\n",
       "      <td>0</td>\n",
       "      <td>0</td>\n",
       "      <td>93.12</td>\n",
       "      <td>1863.0</td>\n",
       "      <td>0</td>\n",
       "      <td>0</td>\n",
       "      <td>0</td>\n",
       "      <td>0</td>\n",
       "      <td>13</td>\n",
       "    </tr>\n",
       "    <tr>\n",
       "      <th>3</th>\n",
       "      <td>1_0</td>\n",
       "      <td>2013-01-05</td>\n",
       "      <td>1</td>\n",
       "      <td>0</td>\n",
       "      <td>5.0</td>\n",
       "      <td>0</td>\n",
       "      <td>NaN</td>\n",
       "      <td>NaN</td>\n",
       "      <td>NaN</td>\n",
       "      <td>NaN</td>\n",
       "      <td>...</td>\n",
       "      <td>0</td>\n",
       "      <td>0</td>\n",
       "      <td>0</td>\n",
       "      <td>93.12</td>\n",
       "      <td>1509.0</td>\n",
       "      <td>0</td>\n",
       "      <td>0</td>\n",
       "      <td>0</td>\n",
       "      <td>0</td>\n",
       "      <td>13</td>\n",
       "    </tr>\n",
       "    <tr>\n",
       "      <th>4</th>\n",
       "      <td>1_0</td>\n",
       "      <td>2013-01-06</td>\n",
       "      <td>1</td>\n",
       "      <td>0</td>\n",
       "      <td>2.0</td>\n",
       "      <td>0</td>\n",
       "      <td>NaN</td>\n",
       "      <td>NaN</td>\n",
       "      <td>NaN</td>\n",
       "      <td>NaN</td>\n",
       "      <td>...</td>\n",
       "      <td>0</td>\n",
       "      <td>0</td>\n",
       "      <td>0</td>\n",
       "      <td>93.12</td>\n",
       "      <td>520.0</td>\n",
       "      <td>0</td>\n",
       "      <td>0</td>\n",
       "      <td>0</td>\n",
       "      <td>0</td>\n",
       "      <td>13</td>\n",
       "    </tr>\n",
       "  </tbody>\n",
       "</table>\n",
       "<p>5 rows × 180 columns</p>\n",
       "</div>"
      ],
      "text/plain": [
       "  ts_id       date  bu  famid  sales  onprom  lag_sales_1  lag_sales_2  \\\n",
       "0   1_0 2013-01-02   1      0    2.0       0          NaN          NaN   \n",
       "1   1_0 2013-01-03   1      0    3.0       0          NaN          NaN   \n",
       "2   1_0 2013-01-04   1      0    3.0       0          NaN          NaN   \n",
       "3   1_0 2013-01-05   1      0    5.0       0          NaN          NaN   \n",
       "4   1_0 2013-01-06   1      0    2.0       0          NaN          NaN   \n",
       "\n",
       "   lag_sales_3  lag_sales_4  ...  hol_before_2  hol_before_3  hol_after_1  \\\n",
       "0          NaN          NaN  ...             0             0            0   \n",
       "1          NaN          NaN  ...             0             0            0   \n",
       "2          NaN          NaN  ...             0             0            0   \n",
       "3          NaN          NaN  ...             0             0            0   \n",
       "4          NaN          NaN  ...             0             0            0   \n",
       "\n",
       "   prixoil  transactions  isclosed  typeid  cityid  stateid  cluster  \n",
       "0    93.14        2111.0         0       0       0        0       13  \n",
       "1    92.97        1833.0         0       0       0        0       13  \n",
       "2    93.12        1863.0         0       0       0        0       13  \n",
       "3    93.12        1509.0         0       0       0        0       13  \n",
       "4    93.12         520.0         0       0       0        0       13  \n",
       "\n",
       "[5 rows x 180 columns]"
      ]
     },
     "execution_count": 33,
     "metadata": {},
     "output_type": "execute_result"
    }
   ],
   "source": [
    "df_www.head()"
   ]
  },
  {
   "cell_type": "code",
   "execution_count": null,
   "id": "45cd63ea-9f40-4275-bc6c-cf317c89c809",
   "metadata": {},
   "outputs": [],
   "source": []
  }
 ],
 "metadata": {
  "kernelspec": {
   "display_name": "forecast",
   "language": "python",
   "name": "forecast"
  },
  "language_info": {
   "codemirror_mode": {
    "name": "ipython",
    "version": 3
   },
   "file_extension": ".py",
   "mimetype": "text/x-python",
   "name": "python",
   "nbconvert_exporter": "python",
   "pygments_lexer": "ipython3",
   "version": "3.8.13"
  }
 },
 "nbformat": 4,
 "nbformat_minor": 5
}
